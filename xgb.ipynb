{
  "nbformat": 4,
  "nbformat_minor": 0,
  "metadata": {
    "colab": {
      "name": "xgb.ipynb",
      "provenance": [],
      "collapsed_sections": [],
      "authorship_tag": "ABX9TyO6qK7CwF6QkwuH74+vzmVb",
      "include_colab_link": true
    },
    "kernelspec": {
      "name": "python3",
      "display_name": "Python 3"
    },
    "language_info": {
      "name": "python"
    }
  },
  "cells": [
    {
      "cell_type": "markdown",
      "metadata": {
        "id": "view-in-github",
        "colab_type": "text"
      },
      "source": [
        "<a href=\"https://colab.research.google.com/github/LEECHANGDAEE/colab/blob/main/xgb.ipynb\" target=\"_parent\"><img src=\"https://colab.research.google.com/assets/colab-badge.svg\" alt=\"Open In Colab\"/></a>"
      ]
    },
    {
      "cell_type": "code",
      "metadata": {
        "colab": {
          "base_uri": "https://localhost:8080/"
        },
        "id": "RkFiod2Ce53W",
        "outputId": "ce23e3bb-d60e-4ef9-d20e-6878eb5f9751"
      },
      "source": [
        "import pandas as pd\n",
        "import numpy as np\n",
        "from sklearn.ensemble import RandomForestRegressor\n",
        "from tqdm import tqdm\n",
        "from sklearn.model_selection import train_test_split\n",
        "from sklearn.linear_model import LinearRegression\n",
        "from sklearn.linear_model import Ridge\n",
        "import xgboost\n",
        "train = pd.read_csv('./train1.csv',encoding='cp949')\n",
        "test = pd.read_csv('./test1.csv',encoding='cp949')\n",
        "submission = pd.read_csv('./sample_submission1.csv',encoding='cp949')\n",
        "\n",
        "\n",
        "train.columns = [\n",
        "    '단지코드', '총세대수', '임대건물구분', '지역', '공급유형', '전용면적', '전용면적별세대수', '공가수', '신분',\n",
        "    '임대보증금', '임대료', '지하철', '버스',\n",
        "    '단지내주차면수', '등록차량수'\n",
        "]\n",
        "\n",
        "test.columns = [\n",
        "    '단지코드', '총세대수', '임대건물구분', '지역', '공급유형', '전용면적', '전용면적별세대수', '공가수', '신분',\n",
        "    '임대보증금', '임대료', '지하철', '버스',\n",
        "    '단지내주차면수'\n",
        "]\n",
        "\n",
        "local_map = {}\n",
        "for i, loc in enumerate(train['지역'].unique()):\n",
        "    local_map[loc] = i\n",
        "\n",
        "\n",
        "train['지역'] = train['지역'].map(local_map)\n",
        "test['지역'] = test['지역'].map(local_map)\n",
        "\n",
        "train['전용면적'] = round(train['전용면적'])//5*5\n",
        "test['전용면적'] = round(test['전용면적'])//5*5\n",
        "\n",
        "train_apt = train[train['임대건물구분']=='아파트']\n",
        "train_st = train[train['임대건물구분']=='상가']\n",
        "test_apt = test[test['임대건물구분']=='아파트']\n",
        "test_st = test[test['임대건물구분']=='상가']\n",
        "\n",
        "columns = ['단지코드', '총세대수', '공가수', '지역', '단지내주차면수', '지하철', '버스',]\n",
        "target = '등록차량수'\n",
        "area_columns = []\n",
        "\n",
        "for area in train_apt['전용면적'].unique():\n",
        "    area_columns.append(f'면적_{area}')\n",
        "\n",
        "new_train = pd.DataFrame()\n",
        "new_test = pd.DataFrame()\n",
        "\n",
        "for i, code in tqdm(enumerate(train_apt['단지코드'].unique())):\n",
        "    temp = train_apt[train_apt['단지코드']==code]\n",
        "    temp.index = range(temp.shape[0])\n",
        "    for col in columns:\n",
        "        new_train.loc[i, col] = temp.loc[0, col]\n",
        "    \n",
        "    for col in area_columns:\n",
        "        area = float(col.split('_')[-1])\n",
        "        new_train.loc[i, col] = temp[temp['전용면적']==area]['전용면적별세대수'].sum()\n",
        "    \n",
        "    new_train.loc[i, '등록차량수'] = temp.loc[0, '등록차량수']\n",
        "    \n",
        "for i, code in tqdm(enumerate(test_apt['단지코드'].unique())):\n",
        "    temp = test_apt[test_apt['단지코드']==code]\n",
        "    temp.index = range(temp.shape[0])\n",
        "    for col in columns:\n",
        "        new_test.loc[i, col] = temp.loc[0, col]\n",
        "    \n",
        "    for col in area_columns:\n",
        "        area = float(col.split('_')[-1])\n",
        "        new_test.loc[i, col] = temp[temp['전용면적']==area]['전용면적별세대수'].sum()"
      ],
      "execution_count": null,
      "outputs": [
        {
          "output_type": "stream",
          "text": [
            "423it [00:09, 46.41it/s]\n",
            "150it [00:03, 47.03it/s]\n"
          ],
          "name": "stderr"
        }
      ]
    },
    {
      "cell_type": "code",
      "metadata": {
        "id": "2OhjHtHQfLBu",
        "colab": {
          "base_uri": "https://localhost:8080/",
          "height": 239
        },
        "outputId": "214b3d1e-2e01-438a-fd11-3abbd4e2be21"
      },
      "source": [
        "for i in range(50) :\n",
        "  \n",
        "  x_train, x_test, y_train, y_test = train_test_split(x, y, train_size=0.8, test_size=0.2,random_state =i)\n",
        "  mlr = LinearRegression()\n",
        "  mlr.fit(x_train, y_train)\n",
        "\n",
        "  ridge = Ridge(alpha = 0.5).fit(x_train, y_train)\n",
        "\n",
        "  lasso = Lasso(alpha=0.2).fit(x_train, y_train)\n",
        "\n",
        "  y_linear_predict = mlr.predict(x_test)\n",
        "  y_ridge_predict = ridge.predict(x_test)\n",
        "  y_lasso_predict = lasso.predict(x_test)\n",
        "  from sklearn.metrics import mean_absolute_error\n",
        "  from sklearn.metrics import mean_squared_error\n",
        "  print(mean_absolute_error(y_lasso_predict,y_test))"
      ],
      "execution_count": null,
      "outputs": [
        {
          "output_type": "error",
          "ename": "NameError",
          "evalue": "ignored",
          "traceback": [
            "\u001b[0;31m---------------------------------------------------------------------------\u001b[0m",
            "\u001b[0;31mNameError\u001b[0m                                 Traceback (most recent call last)",
            "\u001b[0;32m<ipython-input-30-ec03f5099f83>\u001b[0m in \u001b[0;36m<module>\u001b[0;34m()\u001b[0m\n\u001b[1;32m      1\u001b[0m \u001b[0;32mfor\u001b[0m \u001b[0mi\u001b[0m \u001b[0;32min\u001b[0m \u001b[0mrange\u001b[0m\u001b[0;34m(\u001b[0m\u001b[0;36m50\u001b[0m\u001b[0;34m)\u001b[0m \u001b[0;34m:\u001b[0m\u001b[0;34m\u001b[0m\u001b[0;34m\u001b[0m\u001b[0m\n\u001b[1;32m      2\u001b[0m \u001b[0;34m\u001b[0m\u001b[0m\n\u001b[0;32m----> 3\u001b[0;31m   \u001b[0mx_train\u001b[0m\u001b[0;34m,\u001b[0m \u001b[0mx_test\u001b[0m\u001b[0;34m,\u001b[0m \u001b[0my_train\u001b[0m\u001b[0;34m,\u001b[0m \u001b[0my_test\u001b[0m \u001b[0;34m=\u001b[0m \u001b[0mtrain_test_split\u001b[0m\u001b[0;34m(\u001b[0m\u001b[0mx\u001b[0m\u001b[0;34m,\u001b[0m \u001b[0my\u001b[0m\u001b[0;34m,\u001b[0m \u001b[0mtrain_size\u001b[0m\u001b[0;34m=\u001b[0m\u001b[0;36m0.8\u001b[0m\u001b[0;34m,\u001b[0m \u001b[0mtest_size\u001b[0m\u001b[0;34m=\u001b[0m\u001b[0;36m0.2\u001b[0m\u001b[0;34m,\u001b[0m\u001b[0mrandom_state\u001b[0m \u001b[0;34m=\u001b[0m\u001b[0mi\u001b[0m\u001b[0;34m)\u001b[0m\u001b[0;34m\u001b[0m\u001b[0;34m\u001b[0m\u001b[0m\n\u001b[0m\u001b[1;32m      4\u001b[0m   \u001b[0mmlr\u001b[0m \u001b[0;34m=\u001b[0m \u001b[0mLinearRegression\u001b[0m\u001b[0;34m(\u001b[0m\u001b[0;34m)\u001b[0m\u001b[0;34m\u001b[0m\u001b[0;34m\u001b[0m\u001b[0m\n\u001b[1;32m      5\u001b[0m   \u001b[0mmlr\u001b[0m\u001b[0;34m.\u001b[0m\u001b[0mfit\u001b[0m\u001b[0;34m(\u001b[0m\u001b[0mx_train\u001b[0m\u001b[0;34m,\u001b[0m \u001b[0my_train\u001b[0m\u001b[0;34m)\u001b[0m\u001b[0;34m\u001b[0m\u001b[0;34m\u001b[0m\u001b[0m\n",
            "\u001b[0;31mNameError\u001b[0m: name 'x' is not defined"
          ]
        }
      ]
    },
    {
      "cell_type": "code",
      "metadata": {
        "id": "IGHRXshnfITH"
      },
      "source": [
        "\n",
        "x_train, x_test, y_train, y_test = train_test_split(x, y, train_size=0.8, test_size=0.2,random_state =0)\n",
        "mlr = LinearRegression()\n",
        "mlr.fit(x_train, y_train)\n",
        "\n",
        "ridge = Ridge(alpha = 0.5).fit(x_train, y_train)\n",
        "\n",
        "lasso = Lasso(alpha=0.2).fit(x_train, y_train)\n",
        "\n",
        "y_linear_predict = mlr.predict(x_test)\n",
        "y_ridge_predict = ridge.predict(x_test)\n",
        "y_lasso_predict = lasso.predict(x_test)\n",
        "from sklearn.metrics import mean_absolute_error\n",
        "from sklearn.metrics import mean_squared_error\n",
        "print('linear regression rmse : {}'.format(mean_squared_error(y_linear_predict,y_test)**0.5))\n",
        "print('ridge regression rmse : {}'.format(mean_squared_error(y_ridge_predict,y_test)**0.5))\n",
        "print('lasso regression rmse : {}'.format(mean_squared_error(y_lasso_predict,y_test)**0.5))\n",
        "print(mean_absolute_error(y_lasso_predict,y_test))"
      ],
      "execution_count": null,
      "outputs": []
    },
    {
      "cell_type": "code",
      "metadata": {
        "colab": {
          "base_uri": "https://localhost:8080/",
          "height": 274
        },
        "id": "j8Z6i-fNlH1h",
        "outputId": "d5664ea3-86b5-4f5e-9942-14b85c9ebcd7"
      },
      "source": [
        "x_test.head()"
      ],
      "execution_count": null,
      "outputs": [
        {
          "output_type": "execute_result",
          "data": {
            "text/html": [
              "<div>\n",
              "<style scoped>\n",
              "    .dataframe tbody tr th:only-of-type {\n",
              "        vertical-align: middle;\n",
              "    }\n",
              "\n",
              "    .dataframe tbody tr th {\n",
              "        vertical-align: top;\n",
              "    }\n",
              "\n",
              "    .dataframe thead th {\n",
              "        text-align: right;\n",
              "    }\n",
              "</style>\n",
              "<table border=\"1\" class=\"dataframe\">\n",
              "  <thead>\n",
              "    <tr style=\"text-align: right;\">\n",
              "      <th></th>\n",
              "      <th>총세대수</th>\n",
              "      <th>공가수</th>\n",
              "      <th>단지내주차면수</th>\n",
              "      <th>지하철</th>\n",
              "      <th>버스</th>\n",
              "      <th>면적_40.0</th>\n",
              "      <th>면적_50.0</th>\n",
              "      <th>면적_60.0</th>\n",
              "      <th>면적_30.0</th>\n",
              "      <th>면적_45.0</th>\n",
              "      <th>면적_35.0</th>\n",
              "      <th>면적_25.0</th>\n",
              "      <th>면적_55.0</th>\n",
              "      <th>면적_75.0</th>\n",
              "      <th>면적_85.0</th>\n",
              "      <th>면적_20.0</th>\n",
              "      <th>면적_70.0</th>\n",
              "      <th>면적_80.0</th>\n",
              "      <th>면적_65.0</th>\n",
              "      <th>면적_15.0</th>\n",
              "      <th>지역_0.0</th>\n",
              "      <th>지역_1.0</th>\n",
              "      <th>지역_2.0</th>\n",
              "      <th>지역_3.0</th>\n",
              "      <th>지역_4.0</th>\n",
              "      <th>지역_5.0</th>\n",
              "      <th>지역_6.0</th>\n",
              "      <th>지역_7.0</th>\n",
              "      <th>지역_8.0</th>\n",
              "      <th>지역_9.0</th>\n",
              "      <th>지역_10.0</th>\n",
              "      <th>지역_11.0</th>\n",
              "      <th>지역_12.0</th>\n",
              "      <th>지역_13.0</th>\n",
              "      <th>지역_14.0</th>\n",
              "      <th>지역_15.0</th>\n",
              "    </tr>\n",
              "  </thead>\n",
              "  <tbody>\n",
              "    <tr>\n",
              "      <th>0</th>\n",
              "      <td>754.0</td>\n",
              "      <td>14.0</td>\n",
              "      <td>683.0</td>\n",
              "      <td>0.0</td>\n",
              "      <td>2.0</td>\n",
              "      <td>116.0</td>\n",
              "      <td>376.0</td>\n",
              "      <td>0.0</td>\n",
              "      <td>0.0</td>\n",
              "      <td>262.0</td>\n",
              "      <td>0.0</td>\n",
              "      <td>0.0</td>\n",
              "      <td>0.0</td>\n",
              "      <td>0.0</td>\n",
              "      <td>0.0</td>\n",
              "      <td>0.0</td>\n",
              "      <td>0.0</td>\n",
              "      <td>0.0</td>\n",
              "      <td>0.0</td>\n",
              "      <td>0.0</td>\n",
              "      <td>0</td>\n",
              "      <td>0</td>\n",
              "      <td>0</td>\n",
              "      <td>1</td>\n",
              "      <td>0</td>\n",
              "      <td>0</td>\n",
              "      <td>0</td>\n",
              "      <td>0</td>\n",
              "      <td>0</td>\n",
              "      <td>0</td>\n",
              "      <td>0</td>\n",
              "      <td>0</td>\n",
              "      <td>0</td>\n",
              "      <td>0</td>\n",
              "      <td>0</td>\n",
              "      <td>0</td>\n",
              "    </tr>\n",
              "    <tr>\n",
              "      <th>1</th>\n",
              "      <td>1354.0</td>\n",
              "      <td>9.0</td>\n",
              "      <td>1216.0</td>\n",
              "      <td>0.0</td>\n",
              "      <td>3.0</td>\n",
              "      <td>420.0</td>\n",
              "      <td>578.0</td>\n",
              "      <td>0.0</td>\n",
              "      <td>0.0</td>\n",
              "      <td>356.0</td>\n",
              "      <td>0.0</td>\n",
              "      <td>0.0</td>\n",
              "      <td>0.0</td>\n",
              "      <td>0.0</td>\n",
              "      <td>0.0</td>\n",
              "      <td>0.0</td>\n",
              "      <td>0.0</td>\n",
              "      <td>0.0</td>\n",
              "      <td>0.0</td>\n",
              "      <td>0.0</td>\n",
              "      <td>0</td>\n",
              "      <td>0</td>\n",
              "      <td>0</td>\n",
              "      <td>1</td>\n",
              "      <td>0</td>\n",
              "      <td>0</td>\n",
              "      <td>0</td>\n",
              "      <td>0</td>\n",
              "      <td>0</td>\n",
              "      <td>0</td>\n",
              "      <td>0</td>\n",
              "      <td>0</td>\n",
              "      <td>0</td>\n",
              "      <td>0</td>\n",
              "      <td>0</td>\n",
              "      <td>0</td>\n",
              "    </tr>\n",
              "    <tr>\n",
              "      <th>2</th>\n",
              "      <td>619.0</td>\n",
              "      <td>18.0</td>\n",
              "      <td>547.0</td>\n",
              "      <td>0.0</td>\n",
              "      <td>16.0</td>\n",
              "      <td>165.0</td>\n",
              "      <td>132.0</td>\n",
              "      <td>44.0</td>\n",
              "      <td>82.0</td>\n",
              "      <td>196.0</td>\n",
              "      <td>0.0</td>\n",
              "      <td>0.0</td>\n",
              "      <td>0.0</td>\n",
              "      <td>0.0</td>\n",
              "      <td>0.0</td>\n",
              "      <td>0.0</td>\n",
              "      <td>0.0</td>\n",
              "      <td>0.0</td>\n",
              "      <td>0.0</td>\n",
              "      <td>0.0</td>\n",
              "      <td>0</td>\n",
              "      <td>0</td>\n",
              "      <td>0</td>\n",
              "      <td>0</td>\n",
              "      <td>0</td>\n",
              "      <td>0</td>\n",
              "      <td>0</td>\n",
              "      <td>0</td>\n",
              "      <td>1</td>\n",
              "      <td>0</td>\n",
              "      <td>0</td>\n",
              "      <td>0</td>\n",
              "      <td>0</td>\n",
              "      <td>0</td>\n",
              "      <td>0</td>\n",
              "      <td>0</td>\n",
              "    </tr>\n",
              "    <tr>\n",
              "      <th>3</th>\n",
              "      <td>593.0</td>\n",
              "      <td>7.0</td>\n",
              "      <td>543.0</td>\n",
              "      <td>0.0</td>\n",
              "      <td>3.0</td>\n",
              "      <td>335.0</td>\n",
              "      <td>84.0</td>\n",
              "      <td>0.0</td>\n",
              "      <td>0.0</td>\n",
              "      <td>174.0</td>\n",
              "      <td>0.0</td>\n",
              "      <td>0.0</td>\n",
              "      <td>0.0</td>\n",
              "      <td>0.0</td>\n",
              "      <td>0.0</td>\n",
              "      <td>0.0</td>\n",
              "      <td>0.0</td>\n",
              "      <td>0.0</td>\n",
              "      <td>0.0</td>\n",
              "      <td>0.0</td>\n",
              "      <td>0</td>\n",
              "      <td>0</td>\n",
              "      <td>0</td>\n",
              "      <td>0</td>\n",
              "      <td>1</td>\n",
              "      <td>0</td>\n",
              "      <td>0</td>\n",
              "      <td>0</td>\n",
              "      <td>0</td>\n",
              "      <td>0</td>\n",
              "      <td>0</td>\n",
              "      <td>0</td>\n",
              "      <td>0</td>\n",
              "      <td>0</td>\n",
              "      <td>0</td>\n",
              "      <td>0</td>\n",
              "    </tr>\n",
              "    <tr>\n",
              "      <th>4</th>\n",
              "      <td>1297.0</td>\n",
              "      <td>11.0</td>\n",
              "      <td>1112.0</td>\n",
              "      <td>0.0</td>\n",
              "      <td>2.0</td>\n",
              "      <td>425.0</td>\n",
              "      <td>304.0</td>\n",
              "      <td>0.0</td>\n",
              "      <td>0.0</td>\n",
              "      <td>568.0</td>\n",
              "      <td>0.0</td>\n",
              "      <td>0.0</td>\n",
              "      <td>0.0</td>\n",
              "      <td>0.0</td>\n",
              "      <td>0.0</td>\n",
              "      <td>0.0</td>\n",
              "      <td>0.0</td>\n",
              "      <td>0.0</td>\n",
              "      <td>0.0</td>\n",
              "      <td>0.0</td>\n",
              "      <td>0</td>\n",
              "      <td>0</td>\n",
              "      <td>0</td>\n",
              "      <td>1</td>\n",
              "      <td>0</td>\n",
              "      <td>0</td>\n",
              "      <td>0</td>\n",
              "      <td>0</td>\n",
              "      <td>0</td>\n",
              "      <td>0</td>\n",
              "      <td>0</td>\n",
              "      <td>0</td>\n",
              "      <td>0</td>\n",
              "      <td>0</td>\n",
              "      <td>0</td>\n",
              "      <td>0</td>\n",
              "    </tr>\n",
              "  </tbody>\n",
              "</table>\n",
              "</div>"
            ],
            "text/plain": [
              "     총세대수   공가수  단지내주차면수  지하철  ...  지역_12.0  지역_13.0  지역_14.0  지역_15.0\n",
              "0   754.0  14.0    683.0  0.0  ...        0        0        0        0\n",
              "1  1354.0   9.0   1216.0  0.0  ...        0        0        0        0\n",
              "2   619.0  18.0    547.0  0.0  ...        0        0        0        0\n",
              "3   593.0   7.0    543.0  0.0  ...        0        0        0        0\n",
              "4  1297.0  11.0   1112.0  0.0  ...        0        0        0        0\n",
              "\n",
              "[5 rows x 36 columns]"
            ]
          },
          "metadata": {
            "tags": []
          },
          "execution_count": 23
        }
      ]
    },
    {
      "cell_type": "code",
      "metadata": {
        "colab": {
          "base_uri": "https://localhost:8080/"
        },
        "id": "igSub226lMFa",
        "outputId": "82ef3d03-e9c4-435a-e39d-4bb7001adb9c"
      },
      "source": [
        "x_test_scale"
      ],
      "execution_count": null,
      "outputs": [
        {
          "output_type": "execute_result",
          "data": {
            "text/plain": [
              "array([[ 0.17559366, -0.10794088,  0.38644442, ..., -0.20412415,\n",
              "         0.        , -0.14285714],\n",
              "       [ 1.71663993, -0.56020716,  2.0460153 , ..., -0.20412415,\n",
              "         0.        , -0.14285714],\n",
              "       [-0.17114175,  0.25387214, -0.03701082, ..., -0.20412415,\n",
              "         0.        , -0.14285714],\n",
              "       ...,\n",
              "       [-1.45277857, -0.56020716, -1.61562702, ..., -0.20412415,\n",
              "         0.        , -0.14285714],\n",
              "       [-0.02731076,  2.06293724, -0.28610213, ..., -0.20412415,\n",
              "         0.        , -0.14285714],\n",
              "       [-0.77985503,  2.69611003, -0.80608025, ..., -0.20412415,\n",
              "         0.        , -0.14285714]])"
            ]
          },
          "metadata": {
            "tags": []
          },
          "execution_count": 25
        }
      ]
    },
    {
      "cell_type": "code",
      "metadata": {
        "id": "VbXRZEXKfOcK"
      },
      "source": [
        "params = {\"learning_rate\"    : [0.05, 0.10, 0.15, 0.20, 0.25, 0.30 ] ,\n",
        " \"max_depth\"        : [ 3, 4, 5, 6, 8, 10, 12, 15],\n",
        " \"min_child_weight\" : [ 1, 3, 5, 7 ],\n",
        " \"gamma\"            : [ 0.0, 0.1, 0.2 , 0.3, 0.4 ],\n",
        " \"colsample_bytree\" : [ 0.3, 0.4, 0.5 , 0.7 ] }"
      ],
      "execution_count": null,
      "outputs": []
    },
    {
      "cell_type": "code",
      "metadata": {
        "id": "yFq-kB41fW93"
      },
      "source": [
        ""
      ],
      "execution_count": null,
      "outputs": []
    },
    {
      "cell_type": "code",
      "metadata": {
        "id": "IeLGEQeXfRNj"
      },
      "source": [
        "from sklearn.model_selection import RandomizedSearchCV\n",
        "xgb_model = xgboost.XGBRegressor(objective='reg:squarederror')\n",
        "xgb_model_random = RandomizedSearchCV(estimator = xgb_model, param_distributions = params, n_iter = 100, cv = 3, verbose=2, random_state=42, n_jobs = -1)"
      ],
      "execution_count": null,
      "outputs": []
    },
    {
      "cell_type": "code",
      "metadata": {
        "colab": {
          "base_uri": "https://localhost:8080/"
        },
        "id": "1zRHwvEgfy46",
        "outputId": "b5db8ca9-b79e-427a-d87e-572aefca458e"
      },
      "source": [
        "xgb_model_random.best_estimator_"
      ],
      "execution_count": null,
      "outputs": [
        {
          "output_type": "execute_result",
          "data": {
            "text/plain": [
              "XGBRegressor(base_score=0.5, booster='gbtree', colsample_bylevel=1,\n",
              "             colsample_bynode=1, colsample_bytree=0.7, gamma=0.2,\n",
              "             importance_type='gain', learning_rate=0.2, max_delta_step=0,\n",
              "             max_depth=15, min_child_weight=7, missing=None, n_estimators=100,\n",
              "             n_jobs=1, nthread=None, objective='reg:squarederror',\n",
              "             random_state=0, reg_alpha=0, reg_lambda=1, scale_pos_weight=1,\n",
              "             seed=None, silent=None, subsample=1, verbosity=1)"
            ]
          },
          "metadata": {
            "tags": []
          },
          "execution_count": 17
        }
      ]
    },
    {
      "cell_type": "code",
      "metadata": {
        "colab": {
          "base_uri": "https://localhost:8080/"
        },
        "id": "0EGL6-afkpKq",
        "outputId": "04277411-eca9-4293-ecb9-eb90f95b6835"
      },
      "source": [
        "xgb_model_random.best_params_"
      ],
      "execution_count": null,
      "outputs": [
        {
          "output_type": "execute_result",
          "data": {
            "text/plain": [
              "{'colsample_bytree': 0.7,\n",
              " 'gamma': 0.2,\n",
              " 'learning_rate': 0.2,\n",
              " 'max_depth': 15,\n",
              " 'min_child_weight': 7}"
            ]
          },
          "metadata": {
            "tags": []
          },
          "execution_count": 18
        }
      ]
    },
    {
      "cell_type": "code",
      "metadata": {
        "id": "HCXzV2Bef8aU"
      },
      "source": [
        "xgb_model_optimal = xgb_model_random.best_estimator_.fit(x_train_scale,y_train)"
      ],
      "execution_count": null,
      "outputs": []
    },
    {
      "cell_type": "code",
      "metadata": {
        "colab": {
          "base_uri": "https://localhost:8080/"
        },
        "id": "ongU5Fd0gTRb",
        "outputId": "3177a033-ae24-4191-fee6-c88058123057"
      },
      "source": [
        "from sklearn.model_selection import cross_val_score\n",
        "scores = cross_val_score(xgb_model_optimal, x_train_scale, y_train, cv=10,scoring='neg_mean_absolute_error')\n",
        "np.mean(scores)"
      ],
      "execution_count": null,
      "outputs": [
        {
          "output_type": "execute_result",
          "data": {
            "text/plain": [
              "-142.29154379729547"
            ]
          },
          "metadata": {
            "tags": []
          },
          "execution_count": 13
        }
      ]
    },
    {
      "cell_type": "code",
      "metadata": {
        "colab": {
          "base_uri": "https://localhost:8080/"
        },
        "id": "olMT0RaygkDi",
        "outputId": "68903a29-a403-4c86-a7c9-e8349477c045"
      },
      "source": [
        "xgb_pred = xgb_model_optimal.predict(x_test_scale)\n",
        "xgb_pred"
      ],
      "execution_count": null,
      "outputs": [
        {
          "output_type": "execute_result",
          "data": {
            "text/plain": [
              "array([ 615.17664 , 1493.4008  ,  544.609   ,  585.15356 , 1287.3171  ,\n",
              "       1894.3147  ,  959.5459  ,  626.56586 ,  317.4308  ,  320.1607  ,\n",
              "        460.65826 ,  205.06133 ,  349.01074 ,  237.31963 ,  194.60521 ,\n",
              "        304.99814 ,  495.18777 ,  367.24252 ,  117.05629 ,  776.96216 ,\n",
              "        235.83563 ,  564.1543  ,  586.378   ,  528.6596  ,  341.18646 ,\n",
              "        152.8086  ,   94.52139 ,  633.39435 ,  478.46375 ,  560.7769  ,\n",
              "        959.05286 ,  115.19775 ,  421.8927  ,  264.2224  ,  107.37325 ,\n",
              "        252.6309  ,  399.7093  ,  692.45337 ,  932.252   ,  355.15155 ,\n",
              "        537.0888  ,  537.1329  ,  542.89734 ,  616.12115 ,  850.3508  ,\n",
              "       1280.8694  ,  462.85733 ,  602.99115 ,  387.54645 ,  384.13617 ,\n",
              "        841.4293  ,  314.35617 , 1227.6877  ,  727.9078  ,  627.4933  ,\n",
              "        191.9547  ,  763.2428  ,  271.58316 ,  526.07214 ,  103.99247 ,\n",
              "        381.20886 ,  639.15375 ,  922.35706 ,  473.44946 ,  110.68848 ,\n",
              "        293.16623 ,  579.8305  , 1332.8624  ,  683.31494 ,  622.36475 ,\n",
              "        965.79706 ,  330.78336 ,  685.2433  ,  855.5945  ,  688.3812  ,\n",
              "        341.03952 ,  736.3273  , 1254.0425  ,  697.37933 , 1031.2544  ,\n",
              "       1004.0085  , 1444.3336  ,  404.02274 ,  205.035   ,  361.56305 ,\n",
              "        200.33119 ,  213.07921 ,  452.74448 ,  257.8532  , 1195.8455  ,\n",
              "       1227.369   ,  657.97906 ,  328.9856  ,  504.26514 , 1166.2782  ,\n",
              "       1028.1693  ,  611.8111  , 1127.4639  ,  822.11145 ,  890.10706 ,\n",
              "        857.62756 ,  463.4165  ,  640.4871  ,  831.6972  , 1112.853   ,\n",
              "        483.1604  , 1200.25    ,  687.5838  ,  858.29425 ,  278.82446 ,\n",
              "        507.06912 , 1473.458   ,  681.3069  ,  719.07153 ,  940.7789  ,\n",
              "         82.98102 ,   93.08487 ,  654.28296 , 1049.4458  , 1488.0964  ,\n",
              "        564.64453 ,  529.19836 ,  833.96265 ,  404.07278 ,  618.5333  ,\n",
              "        301.79678 ,  563.56116 ,  653.498   ,    4.147132,   59.33268 ,\n",
              "         78.72306 ,  483.05518 ,  684.26953 ,  264.16736 ,  205.32658 ,\n",
              "        288.60522 ,  442.6819  ,  592.82434 ,  586.7728  ,   86.56562 ,\n",
              "        687.89575 ,   59.300346,  107.22814 ,  282.06494 ,  367.15527 ,\n",
              "        269.48288 ,  554.9473  ,    8.878573,  454.1599  ,  228.61467 ],\n",
              "      dtype=float32)"
            ]
          },
          "metadata": {
            "tags": []
          },
          "execution_count": 28
        }
      ]
    },
    {
      "cell_type": "code",
      "metadata": {
        "id": "GAYOqYeolwQV"
      },
      "source": [
        "submission['num'] = xgb_pred\n",
        "submission.to_csv('xgb_1.csv', index=False)"
      ],
      "execution_count": null,
      "outputs": []
    }
  ]
}