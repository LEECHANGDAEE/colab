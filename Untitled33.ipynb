{
  "nbformat": 4,
  "nbformat_minor": 0,
  "metadata": {
    "colab": {
      "name": "Untitled33.ipynb",
      "provenance": [],
      "authorship_tag": "ABX9TyMBE0t47lbO1F62VDrlRd2u",
      "include_colab_link": true
    },
    "kernelspec": {
      "name": "python3",
      "display_name": "Python 3"
    },
    "language_info": {
      "name": "python"
    }
  },
  "cells": [
    {
      "cell_type": "markdown",
      "metadata": {
        "id": "view-in-github",
        "colab_type": "text"
      },
      "source": [
        "<a href=\"https://colab.research.google.com/github/LEECHANGDAEE/colab/blob/main/Untitled33.ipynb\" target=\"_parent\"><img src=\"https://colab.research.google.com/assets/colab-badge.svg\" alt=\"Open In Colab\"/></a>"
      ]
    },
    {
      "cell_type": "code",
      "metadata": {
        "id": "Tk_pMbiIsSUO"
      },
      "source": [
        "import pandas as pd\n",
        "import numpy as np\n",
        "from sklearn.ensemble import RandomForestRegressor\n",
        "from tqdm import tqdm\n",
        "from sklearn.model_selection import train_test_split\n",
        "from sklearn.linear_model import LinearRegression\n",
        "from sklearn.linear_model import Ridge\n",
        "from sklearn.linear_model import Lasso\n",
        "import matplotlib.pyplot as plt\n",
        "import seaborn as sns\n",
        "from sklearn.metrics import r2_score, get_scorer\n",
        "from sklearn.linear_model import Lasso, Ridge, LassoCV,LinearRegression\n",
        "from sklearn.preprocessing import StandardScaler, PolynomialFeatures\n",
        "from sklearn.model_selection import KFold, RepeatedKFold, GridSearchCV, cross_validate, train_test_split"
      ],
      "execution_count": 3,
      "outputs": []
    },
    {
      "cell_type": "code",
      "metadata": {
        "colab": {
          "base_uri": "https://localhost:8080/"
        },
        "id": "txJaBiCfsbT5",
        "outputId": "531a4202-b211-4584-9559-2cf11b4f106b"
      },
      "source": [
        "train = pd.read_csv('./train2.csv',encoding='cp949')\n",
        "test = pd.read_csv('./test1.csv',encoding='cp949')\n",
        "submission = pd.read_csv('./sample_submission1.csv',encoding='cp949')\n",
        "\n",
        "train.columns = [\n",
        "    '단지코드', '총세대수', '임대건물구분', '지역', '공급유형', '전용면적', '전용면적별세대수', '공가수', '신분',\n",
        "    '임대보증금', '임대료', '지하철', '버스',\n",
        "    '단지내주차면수', '등록차량수'\n",
        "]\n",
        "\n",
        "test.columns = [\n",
        "    '단지코드', '총세대수', '임대건물구분', '지역', '공급유형', '전용면적', '전용면적별세대수', '공가수', '신분',\n",
        "    '임대보증금', '임대료', '지하철', '버스',\n",
        "    '단지내주차면수'\n",
        "]\n",
        "\n",
        "train= pd.get_dummies(data = train, columns = ['임대건물구분'], prefix = '건물구분')\n",
        "test =  pd.get_dummies(data = test, columns = ['임대건물구분'], prefix = '건물구분')\n",
        "\n",
        "data_m = train.groupby('단지코드').sum()\n",
        "data_mt = test.groupby('단지코드').sum()\n",
        "\n",
        "len(data_m)\n",
        "data_st = data_m.건물구분_상가\n",
        "data_ap = data_m.건물구분_아파트\n",
        "\n",
        "data_stt = data_mt.건물구분_상가\n",
        "data_apt = data_mt.건물구분_아파트\n",
        "\n",
        "for i in range(len(train)) :\n",
        "  if train.공급유형[i] in ['임대상가','영구임대'] :\n",
        "    train.공급유형[i] = '영구임대_상가'\n",
        "  elif train.공급유형[i] in ['공공임대(10년)','공공임대(50년)','공공임대(분납)','공공분양','공공임대(5년)'] :\n",
        "    train.공급유형[i] = '공공임대'\n",
        "  elif train.공급유형[i] in ['장기전세','행복주택'] :\n",
        "    train.공급유형[i] = '전세주택'\n",
        "#train.공급유형.value_counts()\n",
        "\n",
        "for i in range(len(test)) :\n",
        "  if test.공급유형[i] in ['임대상가','영구임대'] :\n",
        "    test.공급유형[i] = '영구임대_상가'\n",
        "  elif test.공급유형[i] in ['공공임대(10년)','공공임대(50년)','공공임대(분납)','공공분양','공공임대(5년)'] :\n",
        "    test.공급유형[i] = '공공임대'\n",
        "  elif test.공급유형[i] in ['장기전세','행복주택'] :\n",
        "    test.공급유형[i] = '전세주택'\n",
        "\n",
        "#test.공급유형.value_counts()\n",
        "\n",
        "train['전용면적'] = round(train['전용면적'])//5*5\n",
        "test['전용면적'] = round(test['전용면적'])//5*5\n",
        "\n",
        "idx = train[train['전용면적']>100].index\n",
        "train.loc[idx, '전용면적'] = 1\n",
        "idx = train[train['전용면적']>50].index\n",
        "train.loc[idx, '전용면적'] = 2\n",
        "idx = train[train['전용면적']==50].index\n",
        "train.loc[idx, '전용면적'] = 3\n",
        "idx = train[train['전용면적']>40].index\n",
        "train.loc[idx, '전용면적'] = 4\n",
        "idx = train[train['전용면적']>9].index\n",
        "train.loc[idx, '전용면적'] = 5\n",
        "\n",
        "idx = test[test['전용면적']>100].index\n",
        "test.loc[idx, '전용면적'] = 1\n",
        "idx = test[test['전용면적']>50].index\n",
        "test.loc[idx, '전용면적'] = 2\n",
        "idx = test[test['전용면적']==50].index\n",
        "test.loc[idx, '전용면적'] = 3\n",
        "idx = test[test['전용면적']>40].index\n",
        "test.loc[idx, '전용면적'] = 4\n",
        "idx = test[test['전용면적']>9].index\n",
        "test.loc[idx, '전용면적'] = 5\n",
        "\n",
        "\n",
        "\n",
        "columns = ['단지코드', '총세대수', '공가수', '지역', '단지내주차면수', '지하철', '버스','공급유형']\n",
        "target = '등록차량수'\n",
        "area_columns = []\n",
        "\n",
        "for area in train['전용면적'].unique():\n",
        "    area_columns.append(f'면적_{area}')\n",
        "\n",
        "new_train = pd.DataFrame()\n",
        "new_test = pd.DataFrame()\n",
        "\n",
        "for i, code in tqdm(enumerate(train['단지코드'].unique())):\n",
        "    temp = train[train['단지코드']==code]\n",
        "    temp.index = range(temp.shape[0])\n",
        "    for col in columns:\n",
        "        new_train.loc[i, col] = temp.loc[0, col]\n",
        "    \n",
        "    for col in area_columns:\n",
        "        area = float(col.split('_')[-1])\n",
        "        new_train.loc[i, col] = temp[temp['전용면적']==area]['전용면적별세대수'].sum()\n",
        "    \n",
        "    new_train.loc[i, '등록차량수'] = temp.loc[0, '등록차량수']\n",
        "    \n",
        "for i, code in tqdm(enumerate(test['단지코드'].unique())):\n",
        "    temp = test[test['단지코드']==code]\n",
        "    temp.index = range(temp.shape[0])\n",
        "    for col in columns:\n",
        "        new_test.loc[i, col] = temp.loc[0, col]\n",
        "    \n",
        "    for col in area_columns:\n",
        "        area = float(col.split('_')[-1])\n",
        "        new_test.loc[i, col] = temp[temp['전용면적']==area]['전용면적별세대수'].sum()\n",
        "  \n",
        "new_train = new_train.fillna(0)\n",
        "new_test = new_test.fillna(0)\n",
        "\n",
        "\n",
        "nw = new_train.set_index('단지코드')\n",
        "ntw = new_test.set_index('단지코드')\n",
        "\n",
        "\n",
        "d1 = pd.concat([nw.iloc[:,:-1],data_ap],axis=1)\n",
        "d2 = pd.concat([d1,data_st],axis=1)\n",
        "d2 = d2.reset_index()\n",
        "\n",
        "dt1 = pd.concat([ntw,data_apt],axis=1)\n",
        "dt2 = pd.concat([dt1,data_stt],axis=1)\n",
        "dt2 = dt2.reset_index()\n",
        "\n",
        "\n",
        "x = d2.iloc[:,1:]\n",
        "y = new_train['등록차량수']\n",
        "\n",
        "yy = dt2.iloc[:,1:]\n",
        "\n",
        "for i in range(len(x)) : \n",
        "  if x.지역[i] in ['서울특별시','부산광역시'] :\n",
        "    x.지역[i] = '경부'\n",
        "\n",
        "for i in range(len(yy)) : \n",
        "  if yy.지역[i] in ['서울특별시','부산광역시'] :\n",
        "    yy.지역[i] = '경부'\n",
        "\n",
        "x = pd.get_dummies(data = x, columns = ['지역'], prefix = '지역')\n",
        "x = pd.get_dummies(data = x, columns = ['공급유형'], prefix = '공급유형')\n",
        "yy = pd.get_dummies(data = yy, columns = ['지역'], prefix = '지역')\n",
        "yy = pd.get_dummies(data = yy, columns = ['공급유형'], prefix = '공급유형')\n",
        "\n",
        "\n",
        "x_train, x_test, y_train, y_test = train_test_split(x, y, train_size=0.8, test_size=0.2,random_state =0)\n",
        "mlr = LinearRegression()\n",
        "mlr.fit(x_train, y_train)\n",
        "\n",
        "ridge = Ridge(alpha = 0.5).fit(x_train, y_train)\n",
        "\n",
        "lasso = Lasso(alpha=0.23).fit(x_train, y_train)\n",
        "\n",
        "y_linear_predict = mlr.predict(x_test)\n",
        "y_ridge_predict = ridge.predict(x_test)\n",
        "y_lasso_predict = lasso.predict(x_test)\n",
        "from sklearn.metrics import mean_absolute_error\n",
        "from sklearn.metrics import mean_squared_error\n",
        "print('linear regression rmse : {}'.format(mean_squared_error(y_linear_predict,y_test)**0.5))\n",
        "print('ridge regression rmse : {}'.format(mean_squared_error(y_ridge_predict,y_test)**0.5))\n",
        "print('lasso regression rmse : {}'.format(mean_squared_error(y_lasso_predict,y_test)**0.5))\n",
        "print(mean_absolute_error(lasso.predict(x_train),y_train))\n",
        "print(mean_absolute_error(y_lasso_predict,y_test))\n"
      ],
      "execution_count": 4,
      "outputs": [
        {
          "output_type": "stream",
          "text": [
            "/usr/local/lib/python3.7/dist-packages/ipykernel_launcher.py:34: SettingWithCopyWarning: \n",
            "A value is trying to be set on a copy of a slice from a DataFrame\n",
            "\n",
            "See the caveats in the documentation: https://pandas.pydata.org/pandas-docs/stable/user_guide/indexing.html#returning-a-view-versus-a-copy\n",
            "/usr/local/lib/python3.7/dist-packages/ipykernel_launcher.py:32: SettingWithCopyWarning: \n",
            "A value is trying to be set on a copy of a slice from a DataFrame\n",
            "\n",
            "See the caveats in the documentation: https://pandas.pydata.org/pandas-docs/stable/user_guide/indexing.html#returning-a-view-versus-a-copy\n",
            "/usr/local/lib/python3.7/dist-packages/ipykernel_launcher.py:36: SettingWithCopyWarning: \n",
            "A value is trying to be set on a copy of a slice from a DataFrame\n",
            "\n",
            "See the caveats in the documentation: https://pandas.pydata.org/pandas-docs/stable/user_guide/indexing.html#returning-a-view-versus-a-copy\n",
            "/usr/local/lib/python3.7/dist-packages/ipykernel_launcher.py:41: SettingWithCopyWarning: \n",
            "A value is trying to be set on a copy of a slice from a DataFrame\n",
            "\n",
            "See the caveats in the documentation: https://pandas.pydata.org/pandas-docs/stable/user_guide/indexing.html#returning-a-view-versus-a-copy\n",
            "/usr/local/lib/python3.7/dist-packages/ipykernel_launcher.py:43: SettingWithCopyWarning: \n",
            "A value is trying to be set on a copy of a slice from a DataFrame\n",
            "\n",
            "See the caveats in the documentation: https://pandas.pydata.org/pandas-docs/stable/user_guide/indexing.html#returning-a-view-versus-a-copy\n",
            "/usr/local/lib/python3.7/dist-packages/ipykernel_launcher.py:45: SettingWithCopyWarning: \n",
            "A value is trying to be set on a copy of a slice from a DataFrame\n",
            "\n",
            "See the caveats in the documentation: https://pandas.pydata.org/pandas-docs/stable/user_guide/indexing.html#returning-a-view-versus-a-copy\n",
            "411it [00:04, 87.26it/s]\n",
            "150it [00:01, 92.39it/s]\n",
            "/usr/local/lib/python3.7/dist-packages/ipykernel_launcher.py:132: SettingWithCopyWarning: \n",
            "A value is trying to be set on a copy of a slice from a DataFrame\n",
            "\n",
            "See the caveats in the documentation: https://pandas.pydata.org/pandas-docs/stable/user_guide/indexing.html#returning-a-view-versus-a-copy\n",
            "/usr/local/lib/python3.7/dist-packages/ipykernel_launcher.py:136: SettingWithCopyWarning: \n",
            "A value is trying to be set on a copy of a slice from a DataFrame\n",
            "\n",
            "See the caveats in the documentation: https://pandas.pydata.org/pandas-docs/stable/user_guide/indexing.html#returning-a-view-versus-a-copy\n"
          ],
          "name": "stderr"
        },
        {
          "output_type": "stream",
          "text": [
            "linear regression rmse : 125.69197135725337\n",
            "ridge regression rmse : 125.43737962072761\n",
            "lasso regression rmse : 125.27249327684034\n",
            "111.28434534895192\n",
            "90.25892657618746\n"
          ],
          "name": "stdout"
        },
        {
          "output_type": "stream",
          "text": [
            "/usr/local/lib/python3.7/dist-packages/sklearn/linear_model/_coordinate_descent.py:476: ConvergenceWarning: Objective did not converge. You might want to increase the number of iterations. Duality gap: 3229241.76402372, tolerance: 4977.526067987805\n",
            "  positive)\n"
          ],
          "name": "stderr"
        }
      ]
    },
    {
      "cell_type": "code",
      "metadata": {
        "id": "6vWRw2IrtFXi"
      },
      "source": [
        "model = RandomForestRegressor(n_jobs= -1, n_estimators=100, random_state=1)\n",
        "model = model.fit(x_train, y_train)"
      ],
      "execution_count": 16,
      "outputs": []
    },
    {
      "cell_type": "code",
      "metadata": {
        "colab": {
          "base_uri": "https://localhost:8080/"
        },
        "id": "X__aO6OUtU43",
        "outputId": "7056aec1-0306-425f-eaf9-ac760177fe19"
      },
      "source": [
        "pred = model.predict(x_test)\n",
        "print('rf rmse : {}'.format(mean_squared_error(pred,y_test)**0.5))\n",
        "\n",
        "print(mean_absolute_error(model.predict(x_train),y_train))\n",
        "print(mean_absolute_error(pred,y_test))"
      ],
      "execution_count": 17,
      "outputs": [
        {
          "output_type": "stream",
          "text": [
            "rf rmse : 158.19289091531445\n",
            "48.02740853658536\n",
            "107.93048192771084\n"
          ],
          "name": "stdout"
        }
      ]
    },
    {
      "cell_type": "code",
      "metadata": {
        "colab": {
          "base_uri": "https://localhost:8080/"
        },
        "id": "W_id_w8WusMh",
        "outputId": "e7e32a7c-deee-4d93-fbf2-0ce5dc670a81"
      },
      "source": [
        "pred = model.predict(yy)\n",
        "pred"
      ],
      "execution_count": 18,
      "outputs": [
        {
          "output_type": "execute_result",
          "data": {
            "text/plain": [
              "array([ 731.25, 1039.2 ,  516.4 ,  556.06,  985.85, 1660.5 ,  859.36,\n",
              "        505.09,  342.21,  248.98,  500.46,  262.92,  441.21,  266.16,\n",
              "        216.06,  418.09,  461.14,  277.99,  203.23,  640.06,  245.91,\n",
              "        533.96,  558.09,  461.26,  416.25,  179.36,  143.97,  621.06,\n",
              "        481.51,  517.4 ,  876.65,   98.86,  417.44,  272.47,  125.78,\n",
              "        292.23,  398.69,  607.35,  777.05,  308.76,  433.92,  530.57,\n",
              "        469.97,  563.5 ,  747.81, 1146.23,  455.61,  616.77,  367.  ,\n",
              "        352.15,  682.73,  297.44, 1061.62,  809.95,  664.08,  294.01,\n",
              "        498.57,  302.49,  467.84,   80.27,  376.2 ,  558.73,  918.66,\n",
              "        514.46,   67.86,  284.07,  579.46, 1077.23,  555.11,  520.61,\n",
              "        747.12,  294.87,  585.77,  746.52,  775.4 ,  478.91,  729.19,\n",
              "        856.98,  820.81,  762.66,  687.95, 1270.54,  340.69,  271.07,\n",
              "        334.15,  232.29,  274.88,  469.28,  281.66,  973.28,  906.87,\n",
              "        644.03,  270.52,  540.72,  921.05,  868.4 ,  564.22,  887.87,\n",
              "        959.17,  816.05,  880.15,  403.14,  830.96,  581.33, 1053.48,\n",
              "        527.29,  942.71,  554.96,  849.14,  286.45,  552.4 , 1091.83,\n",
              "        759.92,  872.74,  822.48,  109.76,  132.95,  578.19,  843.92,\n",
              "       1531.72,  556.06,  725.28,  615.78,  371.83,  722.32,  305.44,\n",
              "        457.98,  547.25,  132.92,   71.81,   95.98,  455.85,  546.46,\n",
              "        304.86,  291.42,  288.45,  441.52,  444.22,  521.43,  139.44,\n",
              "        703.67,   92.72,  135.85,  249.2 ,  410.6 ,  271.64,  476.03,\n",
              "         60.98,  462.93,  233.19])"
            ]
          },
          "metadata": {
            "tags": []
          },
          "execution_count": 18
        }
      ]
    }
  ]
}