{
  "nbformat": 4,
  "nbformat_minor": 0,
  "metadata": {
    "colab": {
      "name": "cb 1.ipynb",
      "provenance": [],
      "authorship_tag": "ABX9TyNFz1y/ybty7SQjzmYxlh7R",
      "include_colab_link": true
    },
    "kernelspec": {
      "name": "python3",
      "display_name": "Python 3"
    },
    "language_info": {
      "name": "python"
    }
  },
  "cells": [
    {
      "cell_type": "markdown",
      "metadata": {
        "id": "view-in-github",
        "colab_type": "text"
      },
      "source": [
        "<a href=\"https://colab.research.google.com/github/LEECHANGDAEE/colab/blob/main/cb_1.ipynb\" target=\"_parent\"><img src=\"https://colab.research.google.com/assets/colab-badge.svg\" alt=\"Open In Colab\"/></a>"
      ]
    },
    {
      "cell_type": "code",
      "metadata": {
        "colab": {
          "base_uri": "https://localhost:8080/"
        },
        "id": "k7aBtKRyKlkU",
        "outputId": "ad5e1759-7352-4c03-8fb8-faa57a07ce73"
      },
      "source": [
        "pip install catboost"
      ],
      "execution_count": 118,
      "outputs": [
        {
          "output_type": "stream",
          "text": [
            "Requirement already satisfied: catboost in /usr/local/lib/python3.7/dist-packages (0.26)\n",
            "Requirement already satisfied: graphviz in /usr/local/lib/python3.7/dist-packages (from catboost) (0.10.1)\n",
            "Requirement already satisfied: six in /usr/local/lib/python3.7/dist-packages (from catboost) (1.15.0)\n",
            "Requirement already satisfied: plotly in /usr/local/lib/python3.7/dist-packages (from catboost) (4.4.1)\n",
            "Requirement already satisfied: scipy in /usr/local/lib/python3.7/dist-packages (from catboost) (1.4.1)\n",
            "Requirement already satisfied: pandas>=0.24.0 in /usr/local/lib/python3.7/dist-packages (from catboost) (1.1.5)\n",
            "Requirement already satisfied: numpy>=1.16.0 in /usr/local/lib/python3.7/dist-packages (from catboost) (1.19.5)\n",
            "Requirement already satisfied: matplotlib in /usr/local/lib/python3.7/dist-packages (from catboost) (3.2.2)\n",
            "Requirement already satisfied: pytz>=2017.2 in /usr/local/lib/python3.7/dist-packages (from pandas>=0.24.0->catboost) (2018.9)\n",
            "Requirement already satisfied: python-dateutil>=2.7.3 in /usr/local/lib/python3.7/dist-packages (from pandas>=0.24.0->catboost) (2.8.1)\n",
            "Requirement already satisfied: kiwisolver>=1.0.1 in /usr/local/lib/python3.7/dist-packages (from matplotlib->catboost) (1.3.1)\n",
            "Requirement already satisfied: pyparsing!=2.0.4,!=2.1.2,!=2.1.6,>=2.0.1 in /usr/local/lib/python3.7/dist-packages (from matplotlib->catboost) (2.4.7)\n",
            "Requirement already satisfied: cycler>=0.10 in /usr/local/lib/python3.7/dist-packages (from matplotlib->catboost) (0.10.0)\n",
            "Requirement already satisfied: retrying>=1.3.3 in /usr/local/lib/python3.7/dist-packages (from plotly->catboost) (1.3.3)\n"
          ],
          "name": "stdout"
        }
      ]
    },
    {
      "cell_type": "code",
      "metadata": {
        "id": "sdz6S1GNKxfM",
        "colab": {
          "base_uri": "https://localhost:8080/"
        },
        "outputId": "722f6850-0d92-4c7c-abe2-c21308ba8158"
      },
      "source": [
        "pip install optuna-dashboard"
      ],
      "execution_count": 119,
      "outputs": [
        {
          "output_type": "stream",
          "text": [
            "Requirement already satisfied: optuna-dashboard in /usr/local/lib/python3.7/dist-packages (0.4.2)\n",
            "Requirement already satisfied: bottle in /usr/local/lib/python3.7/dist-packages (from optuna-dashboard) (0.12.19)\n",
            "Requirement already satisfied: typing-extensions in /usr/local/lib/python3.7/dist-packages (from optuna-dashboard) (3.7.4.3)\n",
            "Requirement already satisfied: scikit-learn in /usr/local/lib/python3.7/dist-packages (from optuna-dashboard) (0.22.2.post1)\n",
            "Requirement already satisfied: optuna>=2.4 in /usr/local/lib/python3.7/dist-packages (from optuna-dashboard) (2.8.0)\n",
            "Requirement already satisfied: alembic in /usr/local/lib/python3.7/dist-packages (from optuna>=2.4->optuna-dashboard) (1.6.5)\n",
            "Requirement already satisfied: sqlalchemy>=1.1.0 in /usr/local/lib/python3.7/dist-packages (from optuna>=2.4->optuna-dashboard) (1.4.20)\n",
            "Requirement already satisfied: scipy!=1.4.0 in /usr/local/lib/python3.7/dist-packages (from optuna>=2.4->optuna-dashboard) (1.4.1)\n",
            "Requirement already satisfied: numpy in /usr/local/lib/python3.7/dist-packages (from optuna>=2.4->optuna-dashboard) (1.19.5)\n",
            "Requirement already satisfied: cmaes>=0.8.2 in /usr/local/lib/python3.7/dist-packages (from optuna>=2.4->optuna-dashboard) (0.8.2)\n",
            "Requirement already satisfied: colorlog in /usr/local/lib/python3.7/dist-packages (from optuna>=2.4->optuna-dashboard) (5.0.1)\n",
            "Requirement already satisfied: cliff in /usr/local/lib/python3.7/dist-packages (from optuna>=2.4->optuna-dashboard) (3.8.0)\n",
            "Requirement already satisfied: packaging>=20.0 in /usr/local/lib/python3.7/dist-packages (from optuna>=2.4->optuna-dashboard) (21.0)\n",
            "Requirement already satisfied: tqdm in /usr/local/lib/python3.7/dist-packages (from optuna>=2.4->optuna-dashboard) (4.41.1)\n",
            "Requirement already satisfied: pyparsing>=2.0.2 in /usr/local/lib/python3.7/dist-packages (from packaging>=20.0->optuna>=2.4->optuna-dashboard) (2.4.7)\n",
            "Requirement already satisfied: importlib-metadata in /usr/local/lib/python3.7/dist-packages (from sqlalchemy>=1.1.0->optuna>=2.4->optuna-dashboard) (4.6.1)\n",
            "Requirement already satisfied: greenlet!=0.4.17 in /usr/local/lib/python3.7/dist-packages (from sqlalchemy>=1.1.0->optuna>=2.4->optuna-dashboard) (1.1.0)\n",
            "Requirement already satisfied: python-editor>=0.3 in /usr/local/lib/python3.7/dist-packages (from alembic->optuna>=2.4->optuna-dashboard) (1.0.4)\n",
            "Requirement already satisfied: python-dateutil in /usr/local/lib/python3.7/dist-packages (from alembic->optuna>=2.4->optuna-dashboard) (2.8.1)\n",
            "Requirement already satisfied: Mako in /usr/local/lib/python3.7/dist-packages (from alembic->optuna>=2.4->optuna-dashboard) (1.1.4)\n",
            "Requirement already satisfied: pbr!=2.1.0,>=2.0.0 in /usr/local/lib/python3.7/dist-packages (from cliff->optuna>=2.4->optuna-dashboard) (5.6.0)\n",
            "Requirement already satisfied: cmd2>=1.0.0 in /usr/local/lib/python3.7/dist-packages (from cliff->optuna>=2.4->optuna-dashboard) (2.1.2)\n",
            "Requirement already satisfied: stevedore>=2.0.1 in /usr/local/lib/python3.7/dist-packages (from cliff->optuna>=2.4->optuna-dashboard) (3.3.0)\n",
            "Requirement already satisfied: PrettyTable>=0.7.2 in /usr/local/lib/python3.7/dist-packages (from cliff->optuna>=2.4->optuna-dashboard) (2.1.0)\n",
            "Requirement already satisfied: PyYAML>=3.12 in /usr/local/lib/python3.7/dist-packages (from cliff->optuna>=2.4->optuna-dashboard) (3.13)\n",
            "Requirement already satisfied: wcwidth>=0.1.7 in /usr/local/lib/python3.7/dist-packages (from cmd2>=1.0.0->cliff->optuna>=2.4->optuna-dashboard) (0.2.5)\n",
            "Requirement already satisfied: pyperclip>=1.6 in /usr/local/lib/python3.7/dist-packages (from cmd2>=1.0.0->cliff->optuna>=2.4->optuna-dashboard) (1.8.2)\n",
            "Requirement already satisfied: attrs>=16.3.0 in /usr/local/lib/python3.7/dist-packages (from cmd2>=1.0.0->cliff->optuna>=2.4->optuna-dashboard) (21.2.0)\n",
            "Requirement already satisfied: colorama>=0.3.7 in /usr/local/lib/python3.7/dist-packages (from cmd2>=1.0.0->cliff->optuna>=2.4->optuna-dashboard) (0.4.4)\n",
            "Requirement already satisfied: zipp>=0.5 in /usr/local/lib/python3.7/dist-packages (from importlib-metadata->sqlalchemy>=1.1.0->optuna>=2.4->optuna-dashboard) (3.5.0)\n",
            "Requirement already satisfied: MarkupSafe>=0.9.2 in /usr/local/lib/python3.7/dist-packages (from Mako->alembic->optuna>=2.4->optuna-dashboard) (2.0.1)\n",
            "Requirement already satisfied: six>=1.5 in /usr/local/lib/python3.7/dist-packages (from python-dateutil->alembic->optuna>=2.4->optuna-dashboard) (1.15.0)\n",
            "Requirement already satisfied: joblib>=0.11 in /usr/local/lib/python3.7/dist-packages (from scikit-learn->optuna-dashboard) (1.0.1)\n"
          ],
          "name": "stdout"
        }
      ]
    },
    {
      "cell_type": "code",
      "metadata": {
        "id": "t4O2GiWnKQGF"
      },
      "source": [
        "# for \"2. Data Loading\"\n",
        "import pandas as pd\n",
        "\n",
        "# for \"3-1. Feature Generation\"\n",
        "import numpy as np\n",
        "\n",
        "# for \"3-2. Feature Engineering\"\n",
        "import matplotlib.pyplot as plt\n",
        "%matplotlib inline\n",
        "from sklearn.preprocessing import RobustScaler, StandardScaler\n",
        "\n",
        "# for \"4. Modeling with Pycaret\"\n",
        "# from pycaret.regression import *\n",
        "\n",
        "# for \"5. Modeling with CatBoostRegressor\"\n",
        "from catboost import CatBoostRegressor\n",
        "import optuna\n",
        "from optuna import Trial\n",
        "from optuna.samplers import TPESampler\n",
        "from optuna.integration import SkoptSampler\n",
        "from sklearn.metrics import mean_absolute_error\n",
        "from sklearn.model_selection import train_test_split, StratifiedKFold"
      ],
      "execution_count": 120,
      "outputs": []
    },
    {
      "cell_type": "code",
      "metadata": {
        "id": "wOyDMbEnKkBe"
      },
      "source": [
        "train = pd.read_csv('./train2.csv',encoding='cp949')\n",
        "test = pd.read_csv('./test1.csv',encoding='cp949')\n",
        "submission = pd.read_csv('./sample_submission1.csv',encoding='cp949')"
      ],
      "execution_count": 121,
      "outputs": []
    },
    {
      "cell_type": "code",
      "metadata": {
        "id": "r3IjS-_Ry2Gi"
      },
      "source": [
        "\n"
      ],
      "execution_count": 121,
      "outputs": []
    },
    {
      "cell_type": "markdown",
      "metadata": {
        "id": "mNjySi0dKkk8"
      },
      "source": [
        ""
      ]
    },
    {
      "cell_type": "code",
      "metadata": {
        "id": "QB5KahSYKSE1"
      },
      "source": [
        "train.loc[train.임대보증금=='-', '임대보증금'] = np.nan\n",
        "test.loc[test.임대보증금=='-', '임대보증금'] = np.nan\n",
        "train['임대보증금'] = train['임대보증금'].astype(float)\n",
        "test['임대보증금'] = test['임대보증금'].astype(float)\n",
        "\n",
        "train.loc[train.임대료=='-', '임대료'] = np.nan\n",
        "test.loc[test.임대료=='-', '임대료'] = np.nan\n",
        "train['임대료'] = train['임대료'].astype(float)\n",
        "test['임대료'] = test['임대료'].astype(float)\n",
        "\n",
        "train[['임대보증금', '임대료']] = train[['임대보증금', '임대료']].fillna(0)\n",
        "test[['임대보증금', '임대료']] = test[['임대보증금', '임대료']].fillna(0)\n",
        "\n",
        "cols = ['도보 10분거리 내 지하철역 수(환승노선 수 반영)', '도보 10분거리 내 버스정류장 수']\n",
        "train[cols] = train[cols].fillna(0)\n",
        "test[cols] = test[cols].fillna(0)\n",
        "\n",
        "#### (3) 자격유형\n",
        "\n",
        "test.loc[test.단지코드.isin(['C2411']) & test.자격유형.isnull(), '자격유형'] = 'A'\n",
        "test.loc[test.단지코드.isin(['C2253']) & test.자격유형.isnull(), '자격유형'] = 'C'\n",
        "\n",
        "train = train.drop_duplicates()\n",
        "test = test.drop_duplicates()\n",
        "\n",
        "unique_cols = ['총세대수', '지역', '공가수', \n",
        "               '도보 10분거리 내 지하철역 수(환승노선 수 반영)',\n",
        "               '도보 10분거리 내 버스정류장 수',\n",
        "               '단지내주차면수', '등록차량수']\n",
        "train_agg = train.set_index('단지코드')[unique_cols].drop_duplicates()\n",
        "test_agg = test.set_index('단지코드')[[col for col in unique_cols if col!='등록차량수']].drop_duplicates()\n",
        "\n",
        "def reshape_cat_features(data, cast_col, value_col):\n",
        "    res = data.drop_duplicates(['단지코드', cast_col]).assign(counter=1).pivot(index='단지코드', columns=cast_col, values=value_col).fillna(0)\n",
        "    res.columns.name = None\n",
        "    res = res.rename(columns={col:cast_col+'_'+col for col in res.columns})\n",
        "    return res\n",
        "\n",
        "train.loc[train.공급유형.isin(['공공임대(5년)', '공공분양', '공공임대(10년)', '공공임대(분납)']), '공급유형'] = '공공임대(5년/10년/분납/분양)'\n",
        "test.loc[test.공급유형.isin(['공공임대(5년)', '공공분양', '공공임대(10년)', '공공임대(분납)']), '공급유형'] = '공공임대(5년/10년/분납/분양)'\n",
        "train.loc[train.공급유형.isin(['장기전세', '국민임대']), '공급유형'] = '국민임대/장기전세'\n",
        "test.loc[test.공급유형.isin(['장기전세', '국민임대']), '공급유형'] = '국민임대/장기전세'\n",
        "\n",
        "train.loc[train.자격유형.isin(['J', 'L', 'K', 'N', 'M', 'O']), '자격유형'] = '행복주택_공급대상'\n",
        "test.loc[test.자격유형.isin(['J', 'L', 'K', 'N', 'M', 'O']), '자격유형'] = '행복주택_공급대상'\n",
        "\n",
        "train.loc[train.자격유형.isin(['H', 'B', 'E', 'G']), '자격유형'] = '국민임대/장기전세_공급대상'\n",
        "test.loc[test.자격유형.isin(['H', 'B', 'E', 'G']), '자격유형'] = '국민임대/장기전세_공급대상'\n",
        "\n",
        "train.loc[train.자격유형.isin(['C', 'I', 'F']), '자격유형'] = '영구임대_공급대상'\n",
        "test.loc[test.자격유형.isin(['C', 'I', 'F']), '자격유형'] = '영구임대_공급대상'\n",
        "\n",
        "X_train = pd.concat([train_agg,\n",
        "                       reshape_cat_features(data=train, cast_col='임대건물구분', value_col='counter'),\n",
        "                       reshape_cat_features(data=train, cast_col='공급유형', value_col='counter'),\n",
        "                       reshape_cat_features(data=train, cast_col='자격유형', value_col='counter')], axis=1)\n",
        "\n",
        "X_test = pd.concat([test_agg,\n",
        "                       reshape_cat_features(data=test, cast_col='임대건물구분', value_col='counter'),\n",
        "                       reshape_cat_features(data=test, cast_col='공급유형', value_col='counter'),\n",
        "                       reshape_cat_features(data=test, cast_col='자격유형', value_col='counter')], axis=1)"
      ],
      "execution_count": 122,
      "outputs": []
    },
    {
      "cell_type": "code",
      "metadata": {
        "id": "ewSSI7PNLRnk"
      },
      "source": [
        "X_train = X_train.drop(columns = ['임대건물구분_아파트'])\n",
        "X_test = X_test.drop(columns = ['임대건물구분_아파트'])"
      ],
      "execution_count": 123,
      "outputs": []
    },
    {
      "cell_type": "code",
      "metadata": {
        "colab": {
          "base_uri": "https://localhost:8080/",
          "height": 394
        },
        "id": "5GJRloNvLVAc",
        "outputId": "364ee9c6-e9a1-4b59-eb74-77fff09e0456"
      },
      "source": [
        "display('Train Data')\n",
        "display(X_train.groupby(['도보 10분거리 내 지하철역 수(환승노선 수 반영)'])['총세대수'].agg('count'))\n",
        "display('='*50)\n",
        "display('Test Data')\n",
        "display(X_test.groupby(['도보 10분거리 내 지하철역 수(환승노선 수 반영)'])['총세대수'].agg('count'))\n",
        "display('='*50)\n",
        "# 지하철 역 수가 3인 데이터는 제거한다.\n",
        "\n",
        "display('After Engineering')\n",
        "X_train = X_train[X_train['도보 10분거리 내 지하철역 수(환승노선 수 반영)'] != 3]\n",
        "display(X_train.groupby(['도보 10분거리 내 지하철역 수(환승노선 수 반영)'])['총세대수'].agg('count'))"
      ],
      "execution_count": 124,
      "outputs": [
        {
          "output_type": "display_data",
          "data": {
            "application/vnd.google.colaboratory.intrinsic+json": {
              "type": "string"
            },
            "text/plain": [
              "'Train Data'"
            ]
          },
          "metadata": {
            "tags": []
          }
        },
        {
          "output_type": "display_data",
          "data": {
            "text/plain": [
              "도보 10분거리 내 지하철역 수(환승노선 수 반영)\n",
              "0.0    367\n",
              "1.0     38\n",
              "2.0      5\n",
              "3.0      1\n",
              "Name: 총세대수, dtype: int64"
            ]
          },
          "metadata": {
            "tags": []
          }
        },
        {
          "output_type": "display_data",
          "data": {
            "application/vnd.google.colaboratory.intrinsic+json": {
              "type": "string"
            },
            "text/plain": [
              "'=================================================='"
            ]
          },
          "metadata": {
            "tags": []
          }
        },
        {
          "output_type": "display_data",
          "data": {
            "application/vnd.google.colaboratory.intrinsic+json": {
              "type": "string"
            },
            "text/plain": [
              "'Test Data'"
            ]
          },
          "metadata": {
            "tags": []
          }
        },
        {
          "output_type": "display_data",
          "data": {
            "text/plain": [
              "도보 10분거리 내 지하철역 수(환승노선 수 반영)\n",
              "0.0    139\n",
              "1.0      8\n",
              "2.0      3\n",
              "Name: 총세대수, dtype: int64"
            ]
          },
          "metadata": {
            "tags": []
          }
        },
        {
          "output_type": "display_data",
          "data": {
            "application/vnd.google.colaboratory.intrinsic+json": {
              "type": "string"
            },
            "text/plain": [
              "'=================================================='"
            ]
          },
          "metadata": {
            "tags": []
          }
        },
        {
          "output_type": "display_data",
          "data": {
            "application/vnd.google.colaboratory.intrinsic+json": {
              "type": "string"
            },
            "text/plain": [
              "'After Engineering'"
            ]
          },
          "metadata": {
            "tags": []
          }
        },
        {
          "output_type": "display_data",
          "data": {
            "text/plain": [
              "도보 10분거리 내 지하철역 수(환승노선 수 반영)\n",
              "0.0    367\n",
              "1.0     38\n",
              "2.0      5\n",
              "Name: 총세대수, dtype: int64"
            ]
          },
          "metadata": {
            "tags": []
          }
        }
      ]
    },
    {
      "cell_type": "code",
      "metadata": {
        "colab": {
          "base_uri": "https://localhost:8080/"
        },
        "id": "Q-BpqCkILXlv",
        "outputId": "066c70a7-5bf4-4965-9d87-e2cd3b2a0f7b"
      },
      "source": [
        "%%time\n",
        "encoding_features = ['지역', '도보 10분거리 내 지하철역 수(환승노선 수 반영)']\n",
        "for f in encoding_features:\n",
        "    mapping = X_train.groupby([f])['등록차량수'].agg(['mean','median','std'])\n",
        "    mapping_values = []\n",
        "    for l in X_train[f].values:\n",
        "        mapping_values.extend([mapping.loc[l].values])\n",
        "    bincount = pd.DataFrame(mapping_values, columns = [f+'_mean', f+'_median', f+'_std', ], index = X_train.index)\n",
        "    X_train = pd.concat([X_train,bincount], axis= 1).drop(columns = [f])\n",
        "\n",
        "    mapping_values = []\n",
        "    for l in X_test[f].values:\n",
        "        mapping_values.extend([mapping.loc[l].values])\n",
        "    bincount = pd.DataFrame(mapping_values, columns = [f+'_mean', f+'_median', f+'_std', ], index = X_test.index)\n",
        "    X_test = pd.concat([X_test,bincount], axis= 1).drop(columns = [f])"
      ],
      "execution_count": 125,
      "outputs": [
        {
          "output_type": "stream",
          "text": [
            "CPU times: user 131 ms, sys: 1 ms, total: 132 ms\n",
            "Wall time: 131 ms\n"
          ],
          "name": "stdout"
        }
      ]
    },
    {
      "cell_type": "code",
      "metadata": {
        "id": "LokZ6cjlLaAX"
      },
      "source": [
        "scailing_features = ['총세대수',\n",
        "                     '공가수',\n",
        "                     '도보 10분거리 내 버스정류장 수',\n",
        "                     '단지내주차면수',\n",
        "                     '지역_mean', \n",
        "                     '지역_median',\n",
        "                     '지역_std', \n",
        "                     '도보 10분거리 내 지하철역 수(환승노선 수 반영)_mean',\n",
        "                   '도보 10분거리 내 지하철역 수(환승노선 수 반영)_median',\n",
        "                   '도보 10분거리 내 지하철역 수(환승노선 수 반영)_std'\n",
        "                    ]\n",
        "\n"
      ],
      "execution_count": 126,
      "outputs": []
    },
    {
      "cell_type": "code",
      "metadata": {
        "colab": {
          "base_uri": "https://localhost:8080/",
          "height": 699
        },
        "id": "p2mUaWKwLePl",
        "outputId": "01ef42f3-cb05-45e1-e0ae-87b0480b3d77"
      },
      "source": [
        "fig, axes = plt.subplots(2,5, figsize= (12,12))\n",
        "i = 0\n",
        "for f in scailing_features:\n",
        "    c = i % 5\n",
        "    r = i // 5\n",
        "    \n",
        "    axes[r,c].hist(x = f, bins =50, data = X_train)\n",
        "    i += 1\n",
        "plt.show()\n",
        "\n",
        "\n",
        "# 지역은 이상치가 확인 => Robust Scailing\n",
        "# 도보 -> std 제거\n",
        "# 나머지는 Standard"
      ],
      "execution_count": 127,
      "outputs": [
        {
          "output_type": "display_data",
          "data": {
            "image/png": "[encoded data removed]",
            "text/plain": [
              "<Figure size 864x864 with 10 Axes>"
            ]
          },
          "metadata": {
            "tags": [],
            "needs_background": "light"
          }
        }
      ]
    },
    {
      "cell_type": "code",
      "metadata": {
        "id": "s-bu_Mc7Lbqw"
      },
      "source": [
        "# 도보 10분거리 std는 그림상 의미가 없기에 Drop\n",
        "X_train = X_train.iloc[:,:-1]\n",
        "X_test = X_test.iloc[:,:-1]\n",
        "\n",
        "# 지역은  Scailing\n",
        "\n",
        "scaler = RobustScaler()\n",
        "loc_f = [    '지역_mean', \n",
        "             '지역_median',\n",
        "             '지역_std', ]\n",
        "X_train.loc[:, loc_f] = scaler.fit_transform(X_train[loc_f])\n",
        "X_test.loc[:, loc_f] = scaler.transform(X_test[loc_f])\n",
        "\n",
        "# 나머지 Scailing\n",
        "scailing_features = ['총세대수',\n",
        "                     '공가수',\n",
        "                     '도보 10분거리 내 버스정류장 수',\n",
        "                     '단지내주차면수',\n",
        "                     '도보 10분거리 내 지하철역 수(환승노선 수 반영)_mean',\n",
        "                       '도보 10분거리 내 지하철역 수(환승노선 수 반영)_median',\n",
        "                    ]\n",
        "\n",
        "scaler = StandardScaler()\n",
        "X_train.loc[:, scailing_features] = scaler.fit_transform(X_train[scailing_features])\n",
        "X_test.loc[:, scailing_features] = scaler.transform(X_test[scailing_features])"
      ],
      "execution_count": 128,
      "outputs": []
    },
    {
      "cell_type": "code",
      "metadata": {
        "id": "msVsWdytLmEp"
      },
      "source": [
        "# reg = setup(X_train, \n",
        "#             preprocess = False, # True로 설정되면, 자체적인 Feature Engineering을 추가로 진행해 Predict가 불가능해진다.\n",
        "#             train_size = 0.999,  # 우리는 전체 데이터를 학습해 test를 예측하는게 목표이기 때문에, 0.999로 설정한다.\n",
        "#             target = '등록차량수', # 목표 변수는 등록 차량 수 이다.\n",
        "#             silent = True, # 엔터를 누르기 귀찮다. 궁금하면 풀어보세요\n",
        "#             use_gpu = False, # GPU가 있으면 사용하세요 (Cat BOost 속도 향상)\n",
        "#             numeric_features=list(X_train.drop(columns = ['등록차량수']).columns), # 모든 변수가 숫자로써의 의미가 있다.\n",
        "#             session_id = 2021,\n",
        "#             fold_shuffle = True\n",
        "#             )"
      ],
      "execution_count": 129,
      "outputs": []
    },
    {
      "cell_type": "code",
      "metadata": {
        "id": "c9rIfttiLpX4"
      },
      "source": [
        "X = X_train.drop(columns = ['등록차량수'])\n",
        "y = X_train['등록차량수']"
      ],
      "execution_count": 130,
      "outputs": []
    },
    {
      "cell_type": "code",
      "metadata": {
        "colab": {
          "base_uri": "https://localhost:8080/"
        },
        "id": "JSjlhs_ooew1",
        "outputId": "3820664b-2c8d-4275-fdf9-a9ef96d585c4"
      },
      "source": [
        "X.지역_median"
      ],
      "execution_count": 131,
      "outputs": [
        {
          "output_type": "execute_result",
          "data": {
            "text/plain": [
              "C2515    0.000000\n",
              "C1407   -0.146138\n",
              "C1945    0.732777\n",
              "C1470   -0.267223\n",
              "C1898   -0.267223\n",
              "           ...   \n",
              "C2586   -0.628392\n",
              "C2035   -0.726514\n",
              "C2020   -0.162839\n",
              "C2437    0.252610\n",
              "C2532   -0.726514\n",
              "Name: 지역_median, Length: 410, dtype: float64"
            ]
          },
          "metadata": {
            "tags": []
          },
          "execution_count": 131
        }
      ]
    },
    {
      "cell_type": "code",
      "metadata": {
        "id": "PvMJiWUJo3U9"
      },
      "source": [
        "# X = X.drop(['지역_median','지역_std'],axis=1)"
      ],
      "execution_count": 132,
      "outputs": []
    },
    {
      "cell_type": "code",
      "metadata": {
        "colab": {
          "base_uri": "https://localhost:8080/",
          "height": 466
        },
        "id": "0BvSTsGxo5so",
        "outputId": "2c39a91b-061f-4332-eed2-c2ef1332e1f0"
      },
      "source": [
        "X"
      ],
      "execution_count": 133,
      "outputs": [
        {
          "output_type": "execute_result",
          "data": {
            "text/html": [
              "<div>\n",
              "<style scoped>\n",
              "    .dataframe tbody tr th:only-of-type {\n",
              "        vertical-align: middle;\n",
              "    }\n",
              "\n",
              "    .dataframe tbody tr th {\n",
              "        vertical-align: top;\n",
              "    }\n",
              "\n",
              "    .dataframe thead th {\n",
              "        text-align: right;\n",
              "    }\n",
              "</style>\n",
              "<table border=\"1\" class=\"dataframe\">\n",
              "  <thead>\n",
              "    <tr style=\"text-align: right;\">\n",
              "      <th></th>\n",
              "      <th>총세대수</th>\n",
              "      <th>공가수</th>\n",
              "      <th>도보 10분거리 내 버스정류장 수</th>\n",
              "      <th>단지내주차면수</th>\n",
              "      <th>임대건물구분_상가</th>\n",
              "      <th>공급유형_공공임대(50년)</th>\n",
              "      <th>공급유형_공공임대(5년/10년/분납/분양)</th>\n",
              "      <th>공급유형_국민임대/장기전세</th>\n",
              "      <th>공급유형_영구임대</th>\n",
              "      <th>공급유형_임대상가</th>\n",
              "      <th>공급유형_행복주택</th>\n",
              "      <th>자격유형_A</th>\n",
              "      <th>자격유형_D</th>\n",
              "      <th>자격유형_국민임대/장기전세_공급대상</th>\n",
              "      <th>자격유형_영구임대_공급대상</th>\n",
              "      <th>자격유형_행복주택_공급대상</th>\n",
              "      <th>지역_mean</th>\n",
              "      <th>지역_median</th>\n",
              "      <th>지역_std</th>\n",
              "      <th>도보 10분거리 내 지하철역 수(환승노선 수 반영)_mean</th>\n",
              "      <th>도보 10분거리 내 지하철역 수(환승노선 수 반영)_median</th>\n",
              "    </tr>\n",
              "  </thead>\n",
              "  <tbody>\n",
              "    <tr>\n",
              "      <th>C2515</th>\n",
              "      <td>-0.438015</td>\n",
              "      <td>0.350709</td>\n",
              "      <td>-0.249358</td>\n",
              "      <td>0.115423</td>\n",
              "      <td>0.0</td>\n",
              "      <td>0.0</td>\n",
              "      <td>0.0</td>\n",
              "      <td>1.0</td>\n",
              "      <td>0.0</td>\n",
              "      <td>0.0</td>\n",
              "      <td>0.0</td>\n",
              "      <td>1.0</td>\n",
              "      <td>0.0</td>\n",
              "      <td>0.0</td>\n",
              "      <td>0.0</td>\n",
              "      <td>0.0</td>\n",
              "      <td>-0.326922</td>\n",
              "      <td>0.000000</td>\n",
              "      <td>-0.001797</td>\n",
              "      <td>-0.017516</td>\n",
              "      <td>-0.088051</td>\n",
              "    </tr>\n",
              "    <tr>\n",
              "      <th>C1407</th>\n",
              "      <td>1.209451</td>\n",
              "      <td>-0.037390</td>\n",
              "      <td>-0.954438</td>\n",
              "      <td>1.952437</td>\n",
              "      <td>0.0</td>\n",
              "      <td>0.0</td>\n",
              "      <td>0.0</td>\n",
              "      <td>1.0</td>\n",
              "      <td>0.0</td>\n",
              "      <td>0.0</td>\n",
              "      <td>0.0</td>\n",
              "      <td>1.0</td>\n",
              "      <td>0.0</td>\n",
              "      <td>0.0</td>\n",
              "      <td>0.0</td>\n",
              "      <td>0.0</td>\n",
              "      <td>0.376414</td>\n",
              "      <td>-0.146138</td>\n",
              "      <td>1.691852</td>\n",
              "      <td>-0.969122</td>\n",
              "      <td>-0.330884</td>\n",
              "    </tr>\n",
              "    <tr>\n",
              "      <th>C1945</th>\n",
              "      <td>0.077586</td>\n",
              "      <td>-0.716563</td>\n",
              "      <td>-0.249358</td>\n",
              "      <td>0.421129</td>\n",
              "      <td>0.0</td>\n",
              "      <td>0.0</td>\n",
              "      <td>0.0</td>\n",
              "      <td>1.0</td>\n",
              "      <td>0.0</td>\n",
              "      <td>0.0</td>\n",
              "      <td>0.0</td>\n",
              "      <td>0.0</td>\n",
              "      <td>0.0</td>\n",
              "      <td>1.0</td>\n",
              "      <td>0.0</td>\n",
              "      <td>0.0</td>\n",
              "      <td>0.673078</td>\n",
              "      <td>0.732777</td>\n",
              "      <td>0.679994</td>\n",
              "      <td>-0.969122</td>\n",
              "      <td>-0.330884</td>\n",
              "    </tr>\n",
              "    <tr>\n",
              "      <th>C1470</th>\n",
              "      <td>-0.067274</td>\n",
              "      <td>0.059635</td>\n",
              "      <td>-0.601898</td>\n",
              "      <td>0.173785</td>\n",
              "      <td>0.0</td>\n",
              "      <td>0.0</td>\n",
              "      <td>0.0</td>\n",
              "      <td>1.0</td>\n",
              "      <td>0.0</td>\n",
              "      <td>0.0</td>\n",
              "      <td>0.0</td>\n",
              "      <td>1.0</td>\n",
              "      <td>0.0</td>\n",
              "      <td>0.0</td>\n",
              "      <td>0.0</td>\n",
              "      <td>0.0</td>\n",
              "      <td>-0.312414</td>\n",
              "      <td>-0.267223</td>\n",
              "      <td>-0.320006</td>\n",
              "      <td>-0.017516</td>\n",
              "      <td>-0.088051</td>\n",
              "    </tr>\n",
              "    <tr>\n",
              "      <th>C1898</th>\n",
              "      <td>-0.386455</td>\n",
              "      <td>-0.425489</td>\n",
              "      <td>0.808263</td>\n",
              "      <td>-0.181946</td>\n",
              "      <td>0.0</td>\n",
              "      <td>0.0</td>\n",
              "      <td>0.0</td>\n",
              "      <td>1.0</td>\n",
              "      <td>0.0</td>\n",
              "      <td>0.0</td>\n",
              "      <td>0.0</td>\n",
              "      <td>1.0</td>\n",
              "      <td>0.0</td>\n",
              "      <td>0.0</td>\n",
              "      <td>0.0</td>\n",
              "      <td>0.0</td>\n",
              "      <td>-0.312414</td>\n",
              "      <td>-0.267223</td>\n",
              "      <td>-0.320006</td>\n",
              "      <td>-0.017516</td>\n",
              "      <td>-0.088051</td>\n",
              "    </tr>\n",
              "    <tr>\n",
              "      <th>...</th>\n",
              "      <td>...</td>\n",
              "      <td>...</td>\n",
              "      <td>...</td>\n",
              "      <td>...</td>\n",
              "      <td>...</td>\n",
              "      <td>...</td>\n",
              "      <td>...</td>\n",
              "      <td>...</td>\n",
              "      <td>...</td>\n",
              "      <td>...</td>\n",
              "      <td>...</td>\n",
              "      <td>...</td>\n",
              "      <td>...</td>\n",
              "      <td>...</td>\n",
              "      <td>...</td>\n",
              "      <td>...</td>\n",
              "      <td>...</td>\n",
              "      <td>...</td>\n",
              "      <td>...</td>\n",
              "      <td>...</td>\n",
              "      <td>...</td>\n",
              "    </tr>\n",
              "    <tr>\n",
              "      <th>C2586</th>\n",
              "      <td>-1.555149</td>\n",
              "      <td>-0.619538</td>\n",
              "      <td>-0.249358</td>\n",
              "      <td>-1.435340</td>\n",
              "      <td>0.0</td>\n",
              "      <td>0.0</td>\n",
              "      <td>0.0</td>\n",
              "      <td>0.0</td>\n",
              "      <td>0.0</td>\n",
              "      <td>0.0</td>\n",
              "      <td>1.0</td>\n",
              "      <td>0.0</td>\n",
              "      <td>0.0</td>\n",
              "      <td>0.0</td>\n",
              "      <td>0.0</td>\n",
              "      <td>1.0</td>\n",
              "      <td>-0.721329</td>\n",
              "      <td>-0.628392</td>\n",
              "      <td>-0.357767</td>\n",
              "      <td>-0.017516</td>\n",
              "      <td>-0.088051</td>\n",
              "    </tr>\n",
              "    <tr>\n",
              "      <th>C2035</th>\n",
              "      <td>-0.568143</td>\n",
              "      <td>1.029882</td>\n",
              "      <td>-0.954438</td>\n",
              "      <td>-0.170829</td>\n",
              "      <td>0.0</td>\n",
              "      <td>0.0</td>\n",
              "      <td>0.0</td>\n",
              "      <td>1.0</td>\n",
              "      <td>0.0</td>\n",
              "      <td>0.0</td>\n",
              "      <td>0.0</td>\n",
              "      <td>1.0</td>\n",
              "      <td>0.0</td>\n",
              "      <td>0.0</td>\n",
              "      <td>0.0</td>\n",
              "      <td>0.0</td>\n",
              "      <td>-0.666952</td>\n",
              "      <td>-0.726514</td>\n",
              "      <td>-0.569915</td>\n",
              "      <td>-0.017516</td>\n",
              "      <td>-0.088051</td>\n",
              "    </tr>\n",
              "    <tr>\n",
              "      <th>C2020</th>\n",
              "      <td>-1.677911</td>\n",
              "      <td>-0.619538</td>\n",
              "      <td>-0.601898</td>\n",
              "      <td>-1.549285</td>\n",
              "      <td>0.0</td>\n",
              "      <td>0.0</td>\n",
              "      <td>0.0</td>\n",
              "      <td>0.0</td>\n",
              "      <td>0.0</td>\n",
              "      <td>0.0</td>\n",
              "      <td>1.0</td>\n",
              "      <td>0.0</td>\n",
              "      <td>0.0</td>\n",
              "      <td>0.0</td>\n",
              "      <td>0.0</td>\n",
              "      <td>1.0</td>\n",
              "      <td>-0.261181</td>\n",
              "      <td>-0.162839</td>\n",
              "      <td>0.000000</td>\n",
              "      <td>-0.969122</td>\n",
              "      <td>-0.330884</td>\n",
              "    </tr>\n",
              "    <tr>\n",
              "      <th>C2437</th>\n",
              "      <td>-1.555149</td>\n",
              "      <td>-0.134415</td>\n",
              "      <td>-0.954438</td>\n",
              "      <td>-1.535389</td>\n",
              "      <td>0.0</td>\n",
              "      <td>0.0</td>\n",
              "      <td>0.0</td>\n",
              "      <td>0.0</td>\n",
              "      <td>1.0</td>\n",
              "      <td>0.0</td>\n",
              "      <td>0.0</td>\n",
              "      <td>0.0</td>\n",
              "      <td>0.0</td>\n",
              "      <td>0.0</td>\n",
              "      <td>1.0</td>\n",
              "      <td>0.0</td>\n",
              "      <td>0.000000</td>\n",
              "      <td>0.252610</td>\n",
              "      <td>-0.286986</td>\n",
              "      <td>-0.017516</td>\n",
              "      <td>-0.088051</td>\n",
              "    </tr>\n",
              "    <tr>\n",
              "      <th>C2532</th>\n",
              "      <td>-1.189318</td>\n",
              "      <td>-0.619538</td>\n",
              "      <td>-0.954438</td>\n",
              "      <td>-1.157426</td>\n",
              "      <td>0.0</td>\n",
              "      <td>0.0</td>\n",
              "      <td>0.0</td>\n",
              "      <td>1.0</td>\n",
              "      <td>0.0</td>\n",
              "      <td>0.0</td>\n",
              "      <td>0.0</td>\n",
              "      <td>1.0</td>\n",
              "      <td>0.0</td>\n",
              "      <td>0.0</td>\n",
              "      <td>0.0</td>\n",
              "      <td>0.0</td>\n",
              "      <td>-0.666952</td>\n",
              "      <td>-0.726514</td>\n",
              "      <td>-0.569915</td>\n",
              "      <td>-0.017516</td>\n",
              "      <td>-0.088051</td>\n",
              "    </tr>\n",
              "  </tbody>\n",
              "</table>\n",
              "<p>410 rows × 21 columns</p>\n",
              "</div>"
            ],
            "text/plain": [
              "           총세대수  ...  도보 10분거리 내 지하철역 수(환승노선 수 반영)_median\n",
              "C2515 -0.438015  ...                            -0.088051\n",
              "C1407  1.209451  ...                            -0.330884\n",
              "C1945  0.077586  ...                            -0.330884\n",
              "C1470 -0.067274  ...                            -0.088051\n",
              "C1898 -0.386455  ...                            -0.088051\n",
              "...         ...  ...                                  ...\n",
              "C2586 -1.555149  ...                            -0.088051\n",
              "C2035 -0.568143  ...                            -0.088051\n",
              "C2020 -1.677911  ...                            -0.330884\n",
              "C2437 -1.555149  ...                            -0.088051\n",
              "C2532 -1.189318  ...                            -0.088051\n",
              "\n",
              "[410 rows x 21 columns]"
            ]
          },
          "metadata": {
            "tags": []
          },
          "execution_count": 133
        }
      ]
    },
    {
      "cell_type": "code",
      "metadata": {
        "id": "cITaT4o5L4lD"
      },
      "source": [
        "def objective(trial: Trial) -> float:\n",
        "    params_cat = {\n",
        "        \"random_state\": 1,\n",
        "        \"learning_rate\": 0.01,\n",
        "        \"n_estimators\": 100000,\n",
        "        \"verbose\" : 1,\n",
        "        \"objective\" : \"MAE\",\n",
        "        \"max_depth\": trial.suggest_int(\"max_depth\", 1, 16),\n",
        "        \"colsample_bylevel\": trial.suggest_float(\"colsample_bylevel\", 0.8, 1.0),\n",
        "        \"subsample\": trial.suggest_float(\"subsample\", 0.3, 1.0),\n",
        "        \"min_child_samples\": trial.suggest_int(\"min_child_samples\", 5, 150),\n",
        "        \"max_bin\": trial.suggest_int(\"max_bin\", 200, 600),\n",
        "    }\n",
        "    \n",
        "    X_tr, X_val, y_tr, y_val = train_test_split(X, y, test_size=0.2)\n",
        "\n",
        "    model = CatBoostRegressor(**params_cat)\n",
        "    model.fit(\n",
        "        X_tr,\n",
        "        y_tr,\n",
        "        eval_set=[(X_tr, y_tr), (X_val, y_val)],\n",
        "        early_stopping_rounds=10,\n",
        "        verbose=False,\n",
        "    )\n",
        "\n",
        "    cat_pred = model.predict(X_val)\n",
        "    log_score = mean_absolute_error(y_val, cat_pred)\n",
        "    \n",
        "    return log_score"
      ],
      "execution_count": 134,
      "outputs": []
    },
    {
      "cell_type": "code",
      "metadata": {
        "colab": {
          "base_uri": "https://localhost:8080/"
        },
        "id": "zNEG2F61L45-",
        "outputId": "1604dfe2-57da-4968-b318-bff8437a5127"
      },
      "source": [
        "sampler = TPESampler(seed=1)\n",
        "study = optuna.create_study(\n",
        "    study_name=\"cat_opt\",\n",
        "    direction=\"minimize\",\n",
        "    sampler=sampler,\n",
        ")\n",
        "study.optimize(objective, n_trials=10)\n",
        "print(\"Best Score:\", study.best_value)\n",
        "print(\"Best trial:\", study.best_trial.params)\n"
      ],
      "execution_count": 135,
      "outputs": [
        {
          "output_type": "stream",
          "text": [
            "\u001b[32m[I 2021-07-26 00:48:32,663]\u001b[0m A new study created in memory with name: cat_opt\u001b[0m\n",
            "\u001b[32m[I 2021-07-26 00:48:33,476]\u001b[0m Trial 0 finished with value: 109.92634947875614 and parameters: {'max_depth': 7, 'colsample_bylevel': 0.9440648986884317, 'subsample': 0.3000800623721414, 'min_child_samples': 49, 'max_bin': 258}. Best is trial 0 with value: 109.92634947875614.\u001b[0m\n",
            "\u001b[32m[I 2021-07-26 00:48:33,694]\u001b[0m Trial 1 finished with value: 109.27964613716138 and parameters: {'max_depth': 2, 'colsample_bylevel': 0.8372520422755342, 'subsample': 0.5418925089301334, 'min_child_samples': 62, 'max_bin': 416}. Best is trial 1 with value: 109.27964613716138.\u001b[0m\n",
            "\u001b[32m[I 2021-07-26 00:48:35,066]\u001b[0m Trial 2 finished with value: 153.02849307722008 and parameters: {'max_depth': 7, 'colsample_bylevel': 0.9370439000793519, 'subsample': 0.4431165748120622, 'min_child_samples': 133, 'max_bin': 210}. Best is trial 1 with value: 109.27964613716138.\u001b[0m\n",
            "\u001b[32m[I 2021-07-26 00:48:44,994]\u001b[0m Trial 3 finished with value: 127.16582672332301 and parameters: {'max_depth': 11, 'colsample_bylevel': 0.8834609604734254, 'subsample': 0.6910828799120261, 'min_child_samples': 25, 'max_bin': 279}. Best is trial 1 with value: 109.27964613716138.\u001b[0m\n",
            "\u001b[32m[I 2021-07-26 00:49:22,750]\u001b[0m Trial 4 finished with value: 129.54477443761326 and parameters: {'max_depth': 13, 'colsample_bylevel': 0.9936523151438795, 'subsample': 0.5193969247114699, 'min_child_samples': 106, 'max_bin': 551}. Best is trial 1 with value: 109.27964613716138.\u001b[0m\n",
            "\u001b[32m[I 2021-07-26 00:51:40,624]\u001b[0m Trial 5 finished with value: 148.02342632001836 and parameters: {'max_depth': 15, 'colsample_bylevel': 0.8170088422739556, 'subsample': 0.32733834826301766, 'min_child_samples': 29, 'max_bin': 552}. Best is trial 1 with value: 109.27964613716138.\u001b[0m\n",
            "\u001b[32m[I 2021-07-26 00:51:40,982]\u001b[0m Trial 6 finished with value: 134.06728724217157 and parameters: {'max_depth': 2, 'colsample_bylevel': 0.8842215250010105, 'subsample': 0.9705226711053514, 'min_child_samples': 82, 'max_bin': 477}. Best is trial 1 with value: 109.27964613716138.\u001b[0m\n",
            "\u001b[32m[I 2021-07-26 00:51:41,742]\u001b[0m Trial 7 finished with value: 106.90884384242564 and parameters: {'max_depth': 6, 'colsample_bylevel': 0.9373001855363168, 'subsample': 0.8842379703281611, 'min_child_samples': 7, 'max_bin': 500}. Best is trial 7 with value: 106.90884384242564.\u001b[0m\n",
            "\u001b[32m[I 2021-07-26 00:54:38,379]\u001b[0m Trial 8 finished with value: 123.39647791972615 and parameters: {'max_depth': 16, 'colsample_bylevel': 0.9496331308759679, 'subsample': 0.49631079444508364, 'min_child_samples': 120, 'max_bin': 241}. Best is trial 7 with value: 106.90884384242564.\u001b[0m\n",
            "\u001b[32m[I 2021-07-26 00:54:40,359]\u001b[0m Trial 9 finished with value: 117.11794180286078 and parameters: {'max_depth': 8, 'colsample_bylevel': 0.9817191006186191, 'subsample': 0.5055299038615756, 'min_child_samples': 47, 'max_bin': 252}. Best is trial 7 with value: 106.90884384242564.\u001b[0m\n"
          ],
          "name": "stderr"
        },
        {
          "output_type": "stream",
          "text": [
            "Best Score: 106.90884384242564\n",
            "Best trial: {'max_depth': 6, 'colsample_bylevel': 0.9373001855363168, 'subsample': 0.8842379703281611, 'min_child_samples': 7, 'max_bin': 500}\n"
          ],
          "name": "stdout"
        }
      ]
    },
    {
      "cell_type": "code",
      "metadata": {
        "id": "YdD0rBqWL6mp"
      },
      "source": [
        "cat_p = study.best_trial.params\n",
        "cat = CatBoostRegressor(**cat_p)"
      ],
      "execution_count": 136,
      "outputs": []
    },
    {
      "cell_type": "code",
      "metadata": {
        "colab": {
          "base_uri": "https://localhost:8080/"
        },
        "id": "uYducp83L9cG",
        "outputId": "49abdd2c-460b-40ea-d58c-b96f3202bb98"
      },
      "source": [
        "y_cat = pd.cut(y, 10, labels=range(10))\n",
        "skf = StratifiedKFold(4)\n",
        "\n",
        "preds = []\n",
        "for tr_id, val_id in skf.split(X, y_cat) : \n",
        "    X_tr = X.iloc[tr_id]\n",
        "    y_tr = y.iloc[tr_id]\n",
        "    \n",
        "    cat.fit(X_tr, y_tr, verbose = 0)\n",
        "    \n",
        "    pred = cat.predict(X_test)\n",
        "    preds.append(pred)\n",
        "cat_pred = np.mean(preds, axis = 0)"
      ],
      "execution_count": 137,
      "outputs": [
        {
          "output_type": "stream",
          "text": [
            "/usr/local/lib/python3.7/dist-packages/sklearn/model_selection/_split.py:667: UserWarning:\n",
            "\n",
            "The least populated class in y has only 2 members, which is less than n_splits=4.\n",
            "\n"
          ],
          "name": "stderr"
        }
      ]
    },
    {
      "cell_type": "code",
      "metadata": {
        "colab": {
          "base_uri": "https://localhost:8080/"
        },
        "id": "xZLzchxE1szH",
        "outputId": "e16db91a-52bb-4ae1-bc9e-2fa242936a51"
      },
      "source": [
        "cat_pred"
      ],
      "execution_count": 138,
      "outputs": [
        {
          "output_type": "execute_result",
          "data": {
            "text/plain": [
              "array([ 697.24039063, 1163.79787082,  564.12954062,  507.38072873,\n",
              "       1095.4540313 , 1805.69204519,  831.00802353,  385.48844101,\n",
              "        291.83352015,  321.29859611,  456.18841159,  369.6025159 ,\n",
              "        327.57988886,  261.56256253,  342.39218542,  261.59994548,\n",
              "        474.60009775,  340.9133056 ,  169.27712443,  716.44555111,\n",
              "        283.1421723 ,  393.03513184,  439.87483543,  477.19476423,\n",
              "        356.21224743,  169.32947961,  171.97897901,  490.91929696,\n",
              "        407.7958033 ,  441.50807566,  826.28759523,  150.2178242 ,\n",
              "        508.03401422,  255.36394218,  125.94520662,  327.60548946,\n",
              "        460.02726988,  591.53757788,  834.92303411,  317.33382842,\n",
              "        428.31914613,  427.29144172,  450.99845872,  548.67626529,\n",
              "        814.18141071, 1358.1219744 ,  467.02596522,  652.54903144,\n",
              "        408.99527399,  365.73150782,  792.77349605,  296.73783132,\n",
              "       1060.93696755,  578.79353281,  512.65096737,  241.64959649,\n",
              "        557.60263   ,  268.36841267,  440.39163666,  161.42053256,\n",
              "        335.60838071,  554.79421727,  997.898015  ,  418.44120894,\n",
              "        172.87949214,  302.71150804,  523.52543846,  802.03351812,\n",
              "        540.75197899,  473.02058331,  800.55433928,  292.29289927,\n",
              "        642.3893143 ,  829.17244091,  987.89884511,  425.60586847,\n",
              "        663.91662054,  902.25301109,  533.44336355,  884.03239567,\n",
              "        847.54465839,  918.94799078,  314.32834494,  275.92117703,\n",
              "        285.63505396,  275.13478838,  220.61442327,  420.88570296,\n",
              "        309.82449808,  890.44206979,  854.59723745,  655.1605074 ,\n",
              "        337.20123322,  594.51384739,  874.76223365,  952.15719568,\n",
              "        599.22542209, 1247.22047364,  617.09149831,  832.73393949,\n",
              "        527.20367488,  422.39467432,  894.5697404 ,  680.65094135,\n",
              "       1073.13282797,  489.24876084, 1098.82044305,  650.70952238,\n",
              "        961.186647  ,  355.71903037,  642.00590457, 1159.07861914,\n",
              "        792.20968716,  938.48203135,  798.54731646,  110.9368635 ,\n",
              "        180.89446537,  547.57397019,  854.32690771, 1433.02909473,\n",
              "        602.20227356,  921.70406508,  787.13726934,  392.22769982,\n",
              "        715.31080497,  233.47256366,  384.83880209,  689.5945991 ,\n",
              "        100.47903719,   90.5301981 ,  126.35226874,  653.0760447 ,\n",
              "        574.96717655,  302.72613849,  243.08145971,  352.98459032,\n",
              "        404.91393937,  486.90078766,  406.42348722,  133.35473732,\n",
              "        460.1052894 ,  103.70660555,  123.12886894,  217.86700971,\n",
              "        363.46412954,  230.95360043,  472.94056899,   26.18855065,\n",
              "        397.10276902,  242.73349779])"
            ]
          },
          "metadata": {
            "tags": []
          },
          "execution_count": 138
        }
      ]
    },
    {
      "cell_type": "code",
      "metadata": {
        "colab": {
          "base_uri": "https://localhost:8080/"
        },
        "id": "c8eQu5I4L-3r",
        "outputId": "1f436a09-a1ca-4fd9-8e55-f4a219f3f0c4"
      },
      "source": [
        "cat_pred"
      ],
      "execution_count": 139,
      "outputs": [
        {
          "output_type": "execute_result",
          "data": {
            "text/plain": [
              "array([ 697.24039063, 1163.79787082,  564.12954062,  507.38072873,\n",
              "       1095.4540313 , 1805.69204519,  831.00802353,  385.48844101,\n",
              "        291.83352015,  321.29859611,  456.18841159,  369.6025159 ,\n",
              "        327.57988886,  261.56256253,  342.39218542,  261.59994548,\n",
              "        474.60009775,  340.9133056 ,  169.27712443,  716.44555111,\n",
              "        283.1421723 ,  393.03513184,  439.87483543,  477.19476423,\n",
              "        356.21224743,  169.32947961,  171.97897901,  490.91929696,\n",
              "        407.7958033 ,  441.50807566,  826.28759523,  150.2178242 ,\n",
              "        508.03401422,  255.36394218,  125.94520662,  327.60548946,\n",
              "        460.02726988,  591.53757788,  834.92303411,  317.33382842,\n",
              "        428.31914613,  427.29144172,  450.99845872,  548.67626529,\n",
              "        814.18141071, 1358.1219744 ,  467.02596522,  652.54903144,\n",
              "        408.99527399,  365.73150782,  792.77349605,  296.73783132,\n",
              "       1060.93696755,  578.79353281,  512.65096737,  241.64959649,\n",
              "        557.60263   ,  268.36841267,  440.39163666,  161.42053256,\n",
              "        335.60838071,  554.79421727,  997.898015  ,  418.44120894,\n",
              "        172.87949214,  302.71150804,  523.52543846,  802.03351812,\n",
              "        540.75197899,  473.02058331,  800.55433928,  292.29289927,\n",
              "        642.3893143 ,  829.17244091,  987.89884511,  425.60586847,\n",
              "        663.91662054,  902.25301109,  533.44336355,  884.03239567,\n",
              "        847.54465839,  918.94799078,  314.32834494,  275.92117703,\n",
              "        285.63505396,  275.13478838,  220.61442327,  420.88570296,\n",
              "        309.82449808,  890.44206979,  854.59723745,  655.1605074 ,\n",
              "        337.20123322,  594.51384739,  874.76223365,  952.15719568,\n",
              "        599.22542209, 1247.22047364,  617.09149831,  832.73393949,\n",
              "        527.20367488,  422.39467432,  894.5697404 ,  680.65094135,\n",
              "       1073.13282797,  489.24876084, 1098.82044305,  650.70952238,\n",
              "        961.186647  ,  355.71903037,  642.00590457, 1159.07861914,\n",
              "        792.20968716,  938.48203135,  798.54731646,  110.9368635 ,\n",
              "        180.89446537,  547.57397019,  854.32690771, 1433.02909473,\n",
              "        602.20227356,  921.70406508,  787.13726934,  392.22769982,\n",
              "        715.31080497,  233.47256366,  384.83880209,  689.5945991 ,\n",
              "        100.47903719,   90.5301981 ,  126.35226874,  653.0760447 ,\n",
              "        574.96717655,  302.72613849,  243.08145971,  352.98459032,\n",
              "        404.91393937,  486.90078766,  406.42348722,  133.35473732,\n",
              "        460.1052894 ,  103.70660555,  123.12886894,  217.86700971,\n",
              "        363.46412954,  230.95360043,  472.94056899,   26.18855065,\n",
              "        397.10276902,  242.73349779])"
            ]
          },
          "metadata": {
            "tags": []
          },
          "execution_count": 139
        }
      ]
    },
    {
      "cell_type": "code",
      "metadata": {
        "id": "MDR2honfMF77"
      },
      "source": [
        "\n",
        "submission['num'] = cat_pred\n",
        "\n",
        "submission.to_csv('catB.csv', index=False)"
      ],
      "execution_count": 140,
      "outputs": []
    },
    {
      "cell_type": "code",
      "metadata": {
        "id": "_6gPc7hLzyDA"
      },
      "source": [
        "    cat_pred = cat.predict(X)\n",
        "    log_score = mean_absolute_error(y_val, cat_pred)"
      ],
      "execution_count": null,
      "outputs": []
    },
    {
      "cell_type": "code",
      "metadata": {
        "id": "1N3RSx_q5hjI"
      },
      "source": [
        ""
      ],
      "execution_count": null,
      "outputs": []
    }
  ]
}