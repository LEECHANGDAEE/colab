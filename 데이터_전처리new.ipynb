{
  "nbformat": 4,
  "nbformat_minor": 0,
  "metadata": {
    "colab": {
      "name": "데이터 전처리new.ipynb",
      "provenance": [],
      "collapsed_sections": [],
      "authorship_tag": "ABX9TyMxtFwqxqPnEQe+errvorWB",
      "include_colab_link": true
    },
    "kernelspec": {
      "name": "python3",
      "display_name": "Python 3"
    },
    "language_info": {
      "name": "python"
    }
  },
  "cells": [
    {
      "cell_type": "markdown",
      "metadata": {
        "id": "view-in-github",
        "colab_type": "text"
      },
      "source": [
        "<a href=\"https://colab.research.google.com/github/LEECHANGDAEE/colab/blob/main/%EB%8D%B0%EC%9D%B4%ED%84%B0_%EC%A0%84%EC%B2%98%EB%A6%ACnew.ipynb\" target=\"_parent\"><img src=\"https://colab.research.google.com/assets/colab-badge.svg\" alt=\"Open In Colab\"/></a>"
      ]
    },
    {
      "cell_type": "code",
      "metadata": {
        "id": "7-7EUoKxtqlk"
      },
      "source": [
        "import pandas as pd\n",
        "import numpy as np\n",
        "from sklearn.ensemble import RandomForestRegressor\n",
        "from tqdm import tqdm\n",
        "from sklearn.model_selection import train_test_split\n",
        "from sklearn.linear_model import LinearRegression\n",
        "from sklearn.linear_model import Ridge\n",
        "from sklearn.linear_model import Lasso\n",
        "import pandas as pd\n",
        "import numpy as np\n",
        "import matplotlib.pyplot as plt\n",
        "import seaborn as sns\n",
        "from sklearn.metrics import r2_score, get_scorer\n",
        "from sklearn.linear_model import Lasso, Ridge, LassoCV,LinearRegression\n",
        "from sklearn.preprocessing import StandardScaler, PolynomialFeatures\n",
        "from sklearn.model_selection import KFold, RepeatedKFold, GridSearchCV, cross_validate, train_test_split"
      ],
      "execution_count": 116,
      "outputs": []
    },
    {
      "cell_type": "code",
      "metadata": {
        "id": "n0AXdwZneup2"
      },
      "source": [
        "\n",
        "train = pd.read_csv('./train2.csv',encoding='cp949')\n",
        "test = pd.read_csv('./test1.csv',encoding='cp949')\n",
        "submission = pd.read_csv('./sample_submission1.csv',encoding='cp949')\n",
        "\n",
        "train.columns = [\n",
        "    '단지코드', '총세대수', '임대건물구분', '지역', '공급유형', '전용면적', '전용면적별세대수', '공가수', '신분',\n",
        "    '임대보증금', '임대료', '지하철', '버스',\n",
        "    '단지내주차면수', '등록차량수'\n",
        "]\n",
        "\n",
        "test.columns = [\n",
        "    '단지코드', '총세대수', '임대건물구분', '지역', '공급유형', '전용면적', '전용면적별세대수', '공가수', '신분',\n",
        "    '임대보증금', '임대료', '지하철', '버스',\n",
        "    '단지내주차면수'\n",
        "]\n",
        "\n",
        "train= pd.get_dummies(data = train, columns = ['임대건물구분'], prefix = '건물구분')\n",
        "test =  pd.get_dummies(data = test, columns = ['임대건물구분'], prefix = '건물구분')\n"
      ],
      "execution_count": 276,
      "outputs": []
    },
    {
      "cell_type": "code",
      "metadata": {
        "id": "1mxiK6Vtwd3N"
      },
      "source": [
        "data_m = train.groupby('단지코드').sum()\n",
        "data_mt = test.groupby('단지코드').sum()\n",
        "\n",
        "len(data_m)\n",
        "data_st = data_m.건물구분_상가\n",
        "data_ap = data_m.건물구분_아파트\n",
        "\n",
        "data_stt = data_mt.건물구분_상가\n",
        "data_apt = data_mt.건물구분_아파트"
      ],
      "execution_count": 277,
      "outputs": []
    },
    {
      "cell_type": "code",
      "metadata": {
        "colab": {
          "base_uri": "https://localhost:8080/"
        },
        "id": "z5BQ8UiZz9H1",
        "outputId": "8e2ce3d9-c5ae-465a-9719-38742580f3f7"
      },
      "source": [
        "train.공급유형.value_counts()"
      ],
      "execution_count": 278,
      "outputs": [
        {
          "output_type": "execute_result",
          "data": {
            "text/plain": [
              "국민임대         1727\n",
              "임대상가          562\n",
              "행복주택          202\n",
              "공공임대(10년)     175\n",
              "영구임대          152\n",
              "공공임대(50년)      31\n",
              "공공임대(분납)        7\n",
              "공공분양            7\n",
              "장기전세            3\n",
              "공공임대(5년)        3\n",
              "Name: 공급유형, dtype: int64"
            ]
          },
          "metadata": {
            "tags": []
          },
          "execution_count": 278
        }
      ]
    },
    {
      "cell_type": "code",
      "metadata": {
        "id": "pqIyKvMWD9vb"
      },
      "source": [
        ""
      ],
      "execution_count": 278,
      "outputs": []
    },
    {
      "cell_type": "code",
      "metadata": {
        "colab": {
          "base_uri": "https://localhost:8080/"
        },
        "id": "SapIypO8yYvk",
        "outputId": "a445486d-4429-4678-e5d7-8023be7f9a65"
      },
      "source": [
        "for i in range(len(train)) :\n",
        "  if train.공급유형[i] in ['임대상가','영구임대'] :\n",
        "    train.공급유형[i] = '영구임대_상가'\n",
        "  elif train.공급유형[i] in ['공공임대(10년)','공공임대(50년)','공공임대(분납)','공공분양','공공임대(5년)'] :\n",
        "    train.공급유형[i] = '공공임대'\n",
        "  elif train.공급유형[i] in ['장기전세','행복주택'] :\n",
        "    train.공급유형[i] = '전세주택'\n",
        "train.공급유형.value_counts()"
      ],
      "execution_count": 279,
      "outputs": [
        {
          "output_type": "stream",
          "text": [
            "/usr/local/lib/python3.7/dist-packages/ipykernel_launcher.py:5: SettingWithCopyWarning: \n",
            "A value is trying to be set on a copy of a slice from a DataFrame\n",
            "\n",
            "See the caveats in the documentation: https://pandas.pydata.org/pandas-docs/stable/user_guide/indexing.html#returning-a-view-versus-a-copy\n",
            "  \"\"\"\n",
            "/usr/local/lib/python3.7/dist-packages/ipykernel_launcher.py:3: SettingWithCopyWarning: \n",
            "A value is trying to be set on a copy of a slice from a DataFrame\n",
            "\n",
            "See the caveats in the documentation: https://pandas.pydata.org/pandas-docs/stable/user_guide/indexing.html#returning-a-view-versus-a-copy\n",
            "  This is separate from the ipykernel package so we can avoid doing imports until\n",
            "/usr/local/lib/python3.7/dist-packages/ipykernel_launcher.py:7: SettingWithCopyWarning: \n",
            "A value is trying to be set on a copy of a slice from a DataFrame\n",
            "\n",
            "See the caveats in the documentation: https://pandas.pydata.org/pandas-docs/stable/user_guide/indexing.html#returning-a-view-versus-a-copy\n",
            "  import sys\n"
          ],
          "name": "stderr"
        },
        {
          "output_type": "execute_result",
          "data": {
            "text/plain": [
              "국민임대       1727\n",
              "영구임대_상가     714\n",
              "공공임대        223\n",
              "전세주택        205\n",
              "Name: 공급유형, dtype: int64"
            ]
          },
          "metadata": {
            "tags": []
          },
          "execution_count": 279
        }
      ]
    },
    {
      "cell_type": "code",
      "metadata": {
        "colab": {
          "base_uri": "https://localhost:8080/"
        },
        "id": "2gXaKZlM2vAr",
        "outputId": "da8b84e0-d68e-4b8e-d2f6-c77cbb010f6c"
      },
      "source": [
        "for i in range(len(test)) :\n",
        "  if test.공급유형[i] in ['임대상가','영구임대'] :\n",
        "    test.공급유형[i] = '영구임대_상가'\n",
        "  elif test.공급유형[i] in ['공공임대(10년)','공공임대(50년)','공공임대(분납)','공공분양','공공임대(5년)'] :\n",
        "    test.공급유형[i] = '공공임대'\n",
        "  elif test.공급유형[i] in ['장기전세','행복주택'] :\n",
        "    test.공급유형[i] = '전세주택'"
      ],
      "execution_count": 280,
      "outputs": [
        {
          "output_type": "stream",
          "text": [
            "/usr/local/lib/python3.7/dist-packages/ipykernel_launcher.py:3: SettingWithCopyWarning: \n",
            "A value is trying to be set on a copy of a slice from a DataFrame\n",
            "\n",
            "See the caveats in the documentation: https://pandas.pydata.org/pandas-docs/stable/user_guide/indexing.html#returning-a-view-versus-a-copy\n",
            "  This is separate from the ipykernel package so we can avoid doing imports until\n",
            "/usr/local/lib/python3.7/dist-packages/ipykernel_launcher.py:5: SettingWithCopyWarning: \n",
            "A value is trying to be set on a copy of a slice from a DataFrame\n",
            "\n",
            "See the caveats in the documentation: https://pandas.pydata.org/pandas-docs/stable/user_guide/indexing.html#returning-a-view-versus-a-copy\n",
            "  \"\"\"\n",
            "/usr/local/lib/python3.7/dist-packages/ipykernel_launcher.py:7: SettingWithCopyWarning: \n",
            "A value is trying to be set on a copy of a slice from a DataFrame\n",
            "\n",
            "See the caveats in the documentation: https://pandas.pydata.org/pandas-docs/stable/user_guide/indexing.html#returning-a-view-versus-a-copy\n",
            "  import sys\n"
          ],
          "name": "stderr"
        }
      ]
    },
    {
      "cell_type": "code",
      "metadata": {
        "colab": {
          "base_uri": "https://localhost:8080/"
        },
        "id": "WKdfP45z28nP",
        "outputId": "586f62ed-602f-44fb-dde9-59d5e6cf72b8"
      },
      "source": [
        "test.공급유형.value_counts()"
      ],
      "execution_count": 281,
      "outputs": [
        {
          "output_type": "execute_result",
          "data": {
            "text/plain": [
              "국민임대       622\n",
              "영구임대_상가    222\n",
              "전세주택       124\n",
              "공공임대        54\n",
              "Name: 공급유형, dtype: int64"
            ]
          },
          "metadata": {
            "tags": []
          },
          "execution_count": 281
        }
      ]
    },
    {
      "cell_type": "code",
      "metadata": {
        "id": "pET52BGP04-C"
      },
      "source": [
        ""
      ],
      "execution_count": 281,
      "outputs": []
    },
    {
      "cell_type": "code",
      "metadata": {
        "colab": {
          "base_uri": "https://localhost:8080/"
        },
        "id": "CyhSFxughtga",
        "outputId": "7b26156a-b59c-43e0-b1d2-cea73c355b6d"
      },
      "source": [
        "train['전용면적'] = round(train['전용면적'])//5*5\n",
        "test['전용면적'] = round(test['전용면적'])//5*5\n",
        "\n",
        "idx = train[train['전용면적']>100].index\n",
        "train.loc[idx, '전용면적'] = 1\n",
        "idx = train[train['전용면적']>50].index\n",
        "train.loc[idx, '전용면적'] = 2\n",
        "idx = train[train['전용면적']==50].index\n",
        "train.loc[idx, '전용면적'] = 3\n",
        "idx = train[train['전용면적']>40].index\n",
        "train.loc[idx, '전용면적'] = 4\n",
        "idx = train[train['전용면적']>9].index\n",
        "train.loc[idx, '전용면적'] = 5\n",
        "\n",
        "idx = test[test['전용면적']>100].index\n",
        "test.loc[idx, '전용면적'] = 1\n",
        "idx = test[test['전용면적']>50].index\n",
        "test.loc[idx, '전용면적'] = 2\n",
        "idx = test[test['전용면적']==50].index\n",
        "test.loc[idx, '전용면적'] = 3\n",
        "idx = test[test['전용면적']>40].index\n",
        "test.loc[idx, '전용면적'] = 4\n",
        "idx = test[test['전용면적']>9].index\n",
        "test.loc[idx, '전용면적'] = 5\n",
        "\n",
        "\n",
        "\n",
        "columns = ['단지코드', '총세대수', '공가수', '지역', '단지내주차면수', '지하철', '버스','공급유형']\n",
        "target = '등록차량수'\n",
        "area_columns = []\n",
        "\n",
        "for area in train['전용면적'].unique():\n",
        "    area_columns.append(f'면적_{area}')\n",
        "\n",
        "new_train = pd.DataFrame()\n",
        "new_test = pd.DataFrame()\n",
        "\n",
        "for i, code in tqdm(enumerate(train['단지코드'].unique())):\n",
        "    temp = train[train['단지코드']==code]\n",
        "    temp.index = range(temp.shape[0])\n",
        "    for col in columns:\n",
        "        new_train.loc[i, col] = temp.loc[0, col]\n",
        "    \n",
        "    for col in area_columns:\n",
        "        area = float(col.split('_')[-1])\n",
        "        new_train.loc[i, col] = temp[temp['전용면적']==area]['전용면적별세대수'].sum()\n",
        "    \n",
        "    new_train.loc[i, '등록차량수'] = temp.loc[0, '등록차량수']\n",
        "    \n",
        "for i, code in tqdm(enumerate(test['단지코드'].unique())):\n",
        "    temp = test[test['단지코드']==code]\n",
        "    temp.index = range(temp.shape[0])\n",
        "    for col in columns:\n",
        "        new_test.loc[i, col] = temp.loc[0, col]\n",
        "    \n",
        "    for col in area_columns:\n",
        "        area = float(col.split('_')[-1])\n",
        "        new_test.loc[i, col] = temp[temp['전용면적']==area]['전용면적별세대수'].sum()\n",
        "  \n",
        "new_train = new_train.fillna(0)\n",
        "new_test = new_test.fillna(0)\n"
      ],
      "execution_count": 282,
      "outputs": [
        {
          "output_type": "stream",
          "text": [
            "411it [00:04, 92.86it/s]\n",
            "150it [00:01, 92.25it/s]\n"
          ],
          "name": "stderr"
        }
      ]
    },
    {
      "cell_type": "code",
      "metadata": {
        "id": "a0fywsLu2Uwc"
      },
      "source": [
        "\n",
        "nw = new_train.set_index('단지코드')\n",
        "ntw = new_test.set_index('단지코드')\n"
      ],
      "execution_count": 283,
      "outputs": []
    },
    {
      "cell_type": "code",
      "metadata": {
        "id": "up9v5rNZC6M5"
      },
      "source": [
        "d1 = pd.concat([nw.iloc[:,:-1],data_ap],axis=1)\n",
        "d2 = pd.concat([d1,data_st],axis=1)\n",
        "d2 = d2.reset_index()\n",
        "\n",
        "dt1 = pd.concat([ntw,data_apt],axis=1)\n",
        "dt2 = pd.concat([dt1,data_stt],axis=1)\n",
        "dt2 = dt2.reset_index()\n",
        "\n"
      ],
      "execution_count": 284,
      "outputs": []
    },
    {
      "cell_type": "code",
      "metadata": {
        "id": "UoS1LJ2t1hAW"
      },
      "source": [
        "\n",
        "x = d2.iloc[:,1:]\n",
        "y = new_train['등록차량수']"
      ],
      "execution_count": 285,
      "outputs": []
    },
    {
      "cell_type": "code",
      "metadata": {
        "id": "1HeKJY0KFcoQ"
      },
      "source": [
        "yy = dt2.iloc[:,1:]"
      ],
      "execution_count": 286,
      "outputs": []
    },
    {
      "cell_type": "code",
      "metadata": {
        "colab": {
          "base_uri": "https://localhost:8080/"
        },
        "id": "9OTB48NOedhx",
        "outputId": "11861522-495e-4cd7-f150-ce65c4454a34"
      },
      "source": [
        "for i in range(len(x)) : \n",
        "  if x.지역[i] in ['서울특별시','부산광역시'] :\n",
        "    x.지역[i] = '서부'"
      ],
      "execution_count": 287,
      "outputs": [
        {
          "output_type": "stream",
          "text": [
            "/usr/local/lib/python3.7/dist-packages/ipykernel_launcher.py:3: SettingWithCopyWarning: \n",
            "A value is trying to be set on a copy of a slice from a DataFrame\n",
            "\n",
            "See the caveats in the documentation: https://pandas.pydata.org/pandas-docs/stable/user_guide/indexing.html#returning-a-view-versus-a-copy\n",
            "  This is separate from the ipykernel package so we can avoid doing imports until\n"
          ],
          "name": "stderr"
        }
      ]
    },
    {
      "cell_type": "code",
      "metadata": {
        "colab": {
          "base_uri": "https://localhost:8080/"
        },
        "id": "2S9EJTM0fBns",
        "outputId": "2433ba7e-74eb-450d-a8df-e212a9224a99"
      },
      "source": [
        "for i in range(len(yy)) : \n",
        "  if yy.지역[i] in ['서울특별시','부산광역시'] :\n",
        "    yy.지역[i] = '서부'"
      ],
      "execution_count": 288,
      "outputs": [
        {
          "output_type": "stream",
          "text": [
            "/usr/local/lib/python3.7/dist-packages/ipykernel_launcher.py:3: SettingWithCopyWarning: \n",
            "A value is trying to be set on a copy of a slice from a DataFrame\n",
            "\n",
            "See the caveats in the documentation: https://pandas.pydata.org/pandas-docs/stable/user_guide/indexing.html#returning-a-view-versus-a-copy\n",
            "  This is separate from the ipykernel package so we can avoid doing imports until\n"
          ],
          "name": "stderr"
        }
      ]
    },
    {
      "cell_type": "code",
      "metadata": {
        "id": "d8oMVtbgmhPD"
      },
      "source": [
        "# for i in range(len(x)) :\n",
        "#      if x.지역[i] in ['광주광역시','부산광역시','대전광역시','울산광역시','대구광역시'] :\n",
        "#     x.지역[i] = '광역시'\n",
        "#   elif x.지역[i] in ['서울특별시','세종특별자치시','제주특별자치도'] :\n",
        "#     x.지역[i] = '특별자치시'\n",
        "#   elif x.지역[i] in ['경상남도','경상북도','충청북도','충청남도','전라남도','전라북도'] :\n",
        "#     x.지역[i] = '지방시'"
      ],
      "execution_count": 289,
      "outputs": []
    },
    {
      "cell_type": "code",
      "metadata": {
        "id": "-mFBrBo73y1p"
      },
      "source": [
        "# for i in range(len(yy)) :\n",
        "#   if yy.지역[i] in ['광주광역시','부산광역시','대전광역시','울산광역시','대구광역시'] :\n",
        "#     yy.지역[i] = '광역시'\n",
        "#   elif yy.지역[i] in ['서울특별시','세종특별자치시','제주특별자치도'] :\n",
        "#     yy.지역[i] = '특별자치시'\n",
        "#   elif yy.지역[i] in ['경상남도','경상북도','충청북도','충청남도','전라남도','전라북도'] :\n",
        "#     yy.지역[i] = '지방시'"
      ],
      "execution_count": 290,
      "outputs": []
    },
    {
      "cell_type": "code",
      "metadata": {
        "id": "KdxiW6cFfjs0"
      },
      "source": [
        "x = pd.get_dummies(data = x, columns = ['지역'], prefix = '지역')\n",
        "x = pd.get_dummies(data = x, columns = ['공급유형'], prefix = '공급유형')\n",
        "yy = pd.get_dummies(data = yy, columns = ['지역'], prefix = '지역')\n",
        "yy = pd.get_dummies(data = yy, columns = ['공급유형'], prefix = '공급유형')"
      ],
      "execution_count": 291,
      "outputs": []
    },
    {
      "cell_type": "code",
      "metadata": {
        "id": "8H9W88b2iWk0"
      },
      "source": [
        ""
      ],
      "execution_count": 291,
      "outputs": []
    },
    {
      "cell_type": "code",
      "metadata": {
        "id": "x1jnRpxufDG9"
      },
      "source": [
        "for i in range(50) :\n",
        "  \n",
        "  x_train, x_test, y_train, y_test = train_test_split(x, y, train_size=0.8, test_size=0.2,random_state =i)\n",
        "  mlr = LinearRegression()\n",
        "  mlr.fit(x_train, y_train)\n",
        "\n",
        "  ridge = Ridge(alpha = 0.5).fit(x_train, y_train)\n",
        "\n",
        "  lasso = Lasso(alpha=0.2).fit(x_train, y_train)\n",
        "\n",
        "  y_linear_predict = mlr.predict(x_test)\n",
        "  y_ridge_predict = ridge.predict(x_test)\n",
        "  y_lasso_predict = lasso.predict(x_test)\n",
        "  from sklearn.metrics import mean_absolute_error\n",
        "  from sklearn.metrics import mean_squared_error\n",
        "  print(mean_absolute_error(y_lasso_predict,y_test))"
      ],
      "execution_count": null,
      "outputs": []
    },
    {
      "cell_type": "code",
      "metadata": {
        "colab": {
          "base_uri": "https://localhost:8080/"
        },
        "id": "H2B47vKYfXE7",
        "outputId": "6d0dd86a-bedc-479f-d074-1a908b285bbf"
      },
      "source": [
        "\n",
        "x_train, x_test, y_train, y_test = train_test_split(x, y, train_size=0.8, test_size=0.2,random_state =0)\n",
        "mlr = LinearRegression()\n",
        "mlr.fit(x_train, y_train)\n",
        "\n",
        "ridge = Ridge(alpha = 0.5).fit(x_train, y_train)\n",
        "\n",
        "lasso = Lasso(alpha=0.23).fit(x_train, y_train)\n",
        "\n",
        "y_linear_predict = mlr.predict(x_test)\n",
        "y_ridge_predict = ridge.predict(x_test)\n",
        "y_lasso_predict = lasso.predict(x_test)\n",
        "from sklearn.metrics import mean_absolute_error\n",
        "from sklearn.metrics import mean_squared_error\n",
        "print('linear regression rmse : {}'.format(mean_squared_error(y_linear_predict,y_test)**0.5))\n",
        "print('ridge regression rmse : {}'.format(mean_squared_error(y_ridge_predict,y_test)**0.5))\n",
        "print('lasso regression rmse : {}'.format(mean_squared_error(y_lasso_predict,y_test)**0.5))\n",
        "print(mean_absolute_error(lasso.predict(x_train),y_train))\n",
        "print(mean_absolute_error(y_lasso_predict,y_test))\n"
      ],
      "execution_count": 293,
      "outputs": [
        {
          "output_type": "stream",
          "text": [
            "linear regression rmse : 125.6919713572535\n",
            "ridge regression rmse : 125.43737962072765\n",
            "lasso regression rmse : 125.27250419930648\n",
            "111.28434498673153\n",
            "90.25893018412157\n"
          ],
          "name": "stdout"
        },
        {
          "output_type": "stream",
          "text": [
            "/usr/local/lib/python3.7/dist-packages/sklearn/linear_model/_coordinate_descent.py:476: ConvergenceWarning: Objective did not converge. You might want to increase the number of iterations. Duality gap: 3229707.680120967, tolerance: 4977.526067987805\n",
            "  positive)\n"
          ],
          "name": "stderr"
        }
      ]
    },
    {
      "cell_type": "code",
      "metadata": {
        "colab": {
          "base_uri": "https://localhost:8080/",
          "height": 354
        },
        "id": "PJJGbptz7zmH",
        "outputId": "f8a8f891-83bf-4ba8-d76e-769bc018c969"
      },
      "source": [
        "yy.head()"
      ],
      "execution_count": 294,
      "outputs": [
        {
          "output_type": "execute_result",
          "data": {
            "text/html": [
              "<div>\n",
              "<style scoped>\n",
              "    .dataframe tbody tr th:only-of-type {\n",
              "        vertical-align: middle;\n",
              "    }\n",
              "\n",
              "    .dataframe tbody tr th {\n",
              "        vertical-align: top;\n",
              "    }\n",
              "\n",
              "    .dataframe thead th {\n",
              "        text-align: right;\n",
              "    }\n",
              "</style>\n",
              "<table border=\"1\" class=\"dataframe\">\n",
              "  <thead>\n",
              "    <tr style=\"text-align: right;\">\n",
              "      <th></th>\n",
              "      <th>총세대수</th>\n",
              "      <th>공가수</th>\n",
              "      <th>단지내주차면수</th>\n",
              "      <th>지하철</th>\n",
              "      <th>버스</th>\n",
              "      <th>면적_5.0</th>\n",
              "      <th>면적_4.0</th>\n",
              "      <th>면적_3.0</th>\n",
              "      <th>면적_2.0</th>\n",
              "      <th>면적_1.0</th>\n",
              "      <th>건물구분_아파트</th>\n",
              "      <th>건물구분_상가</th>\n",
              "      <th>지역_강원도</th>\n",
              "      <th>지역_경기도</th>\n",
              "      <th>지역_경상남도</th>\n",
              "      <th>지역_경상북도</th>\n",
              "      <th>지역_광주광역시</th>\n",
              "      <th>지역_대구광역시</th>\n",
              "      <th>지역_대전광역시</th>\n",
              "      <th>지역_서부</th>\n",
              "      <th>지역_세종특별자치시</th>\n",
              "      <th>지역_울산광역시</th>\n",
              "      <th>지역_전라남도</th>\n",
              "      <th>지역_전라북도</th>\n",
              "      <th>지역_제주특별자치도</th>\n",
              "      <th>지역_충청남도</th>\n",
              "      <th>지역_충청북도</th>\n",
              "      <th>공급유형_공공임대</th>\n",
              "      <th>공급유형_국민임대</th>\n",
              "      <th>공급유형_영구임대_상가</th>\n",
              "      <th>공급유형_전세주택</th>\n",
              "    </tr>\n",
              "  </thead>\n",
              "  <tbody>\n",
              "    <tr>\n",
              "      <th>0</th>\n",
              "      <td>754.0</td>\n",
              "      <td>14.0</td>\n",
              "      <td>683.0</td>\n",
              "      <td>0.0</td>\n",
              "      <td>2.0</td>\n",
              "      <td>116.0</td>\n",
              "      <td>262.0</td>\n",
              "      <td>376.0</td>\n",
              "      <td>0.0</td>\n",
              "      <td>0.0</td>\n",
              "      <td>8</td>\n",
              "      <td>0</td>\n",
              "      <td>0</td>\n",
              "      <td>1</td>\n",
              "      <td>0</td>\n",
              "      <td>0</td>\n",
              "      <td>0</td>\n",
              "      <td>0</td>\n",
              "      <td>0</td>\n",
              "      <td>0</td>\n",
              "      <td>0</td>\n",
              "      <td>0</td>\n",
              "      <td>0</td>\n",
              "      <td>0</td>\n",
              "      <td>0</td>\n",
              "      <td>0</td>\n",
              "      <td>0</td>\n",
              "      <td>0</td>\n",
              "      <td>1</td>\n",
              "      <td>0</td>\n",
              "      <td>0</td>\n",
              "    </tr>\n",
              "    <tr>\n",
              "      <th>1</th>\n",
              "      <td>1354.0</td>\n",
              "      <td>9.0</td>\n",
              "      <td>1216.0</td>\n",
              "      <td>0.0</td>\n",
              "      <td>3.0</td>\n",
              "      <td>420.0</td>\n",
              "      <td>356.0</td>\n",
              "      <td>578.0</td>\n",
              "      <td>0.0</td>\n",
              "      <td>0.0</td>\n",
              "      <td>9</td>\n",
              "      <td>0</td>\n",
              "      <td>0</td>\n",
              "      <td>1</td>\n",
              "      <td>0</td>\n",
              "      <td>0</td>\n",
              "      <td>0</td>\n",
              "      <td>0</td>\n",
              "      <td>0</td>\n",
              "      <td>0</td>\n",
              "      <td>0</td>\n",
              "      <td>0</td>\n",
              "      <td>0</td>\n",
              "      <td>0</td>\n",
              "      <td>0</td>\n",
              "      <td>0</td>\n",
              "      <td>0</td>\n",
              "      <td>0</td>\n",
              "      <td>1</td>\n",
              "      <td>0</td>\n",
              "      <td>0</td>\n",
              "    </tr>\n",
              "    <tr>\n",
              "      <th>2</th>\n",
              "      <td>619.0</td>\n",
              "      <td>18.0</td>\n",
              "      <td>547.0</td>\n",
              "      <td>0.0</td>\n",
              "      <td>16.0</td>\n",
              "      <td>247.0</td>\n",
              "      <td>196.0</td>\n",
              "      <td>132.0</td>\n",
              "      <td>44.0</td>\n",
              "      <td>0.0</td>\n",
              "      <td>9</td>\n",
              "      <td>0</td>\n",
              "      <td>0</td>\n",
              "      <td>0</td>\n",
              "      <td>0</td>\n",
              "      <td>0</td>\n",
              "      <td>0</td>\n",
              "      <td>0</td>\n",
              "      <td>0</td>\n",
              "      <td>1</td>\n",
              "      <td>0</td>\n",
              "      <td>0</td>\n",
              "      <td>0</td>\n",
              "      <td>0</td>\n",
              "      <td>0</td>\n",
              "      <td>0</td>\n",
              "      <td>0</td>\n",
              "      <td>0</td>\n",
              "      <td>1</td>\n",
              "      <td>0</td>\n",
              "      <td>0</td>\n",
              "    </tr>\n",
              "    <tr>\n",
              "      <th>3</th>\n",
              "      <td>593.0</td>\n",
              "      <td>7.0</td>\n",
              "      <td>543.0</td>\n",
              "      <td>0.0</td>\n",
              "      <td>3.0</td>\n",
              "      <td>335.0</td>\n",
              "      <td>174.0</td>\n",
              "      <td>84.0</td>\n",
              "      <td>0.0</td>\n",
              "      <td>0.0</td>\n",
              "      <td>4</td>\n",
              "      <td>0</td>\n",
              "      <td>0</td>\n",
              "      <td>0</td>\n",
              "      <td>0</td>\n",
              "      <td>0</td>\n",
              "      <td>0</td>\n",
              "      <td>0</td>\n",
              "      <td>0</td>\n",
              "      <td>0</td>\n",
              "      <td>0</td>\n",
              "      <td>0</td>\n",
              "      <td>0</td>\n",
              "      <td>1</td>\n",
              "      <td>0</td>\n",
              "      <td>0</td>\n",
              "      <td>0</td>\n",
              "      <td>0</td>\n",
              "      <td>1</td>\n",
              "      <td>0</td>\n",
              "      <td>0</td>\n",
              "    </tr>\n",
              "    <tr>\n",
              "      <th>4</th>\n",
              "      <td>1297.0</td>\n",
              "      <td>11.0</td>\n",
              "      <td>1112.0</td>\n",
              "      <td>0.0</td>\n",
              "      <td>2.0</td>\n",
              "      <td>425.0</td>\n",
              "      <td>568.0</td>\n",
              "      <td>304.0</td>\n",
              "      <td>0.0</td>\n",
              "      <td>0.0</td>\n",
              "      <td>8</td>\n",
              "      <td>0</td>\n",
              "      <td>0</td>\n",
              "      <td>1</td>\n",
              "      <td>0</td>\n",
              "      <td>0</td>\n",
              "      <td>0</td>\n",
              "      <td>0</td>\n",
              "      <td>0</td>\n",
              "      <td>0</td>\n",
              "      <td>0</td>\n",
              "      <td>0</td>\n",
              "      <td>0</td>\n",
              "      <td>0</td>\n",
              "      <td>0</td>\n",
              "      <td>0</td>\n",
              "      <td>0</td>\n",
              "      <td>0</td>\n",
              "      <td>1</td>\n",
              "      <td>0</td>\n",
              "      <td>0</td>\n",
              "    </tr>\n",
              "  </tbody>\n",
              "</table>\n",
              "</div>"
            ],
            "text/plain": [
              "     총세대수   공가수  단지내주차면수  지하철  ...  공급유형_공공임대  공급유형_국민임대  공급유형_영구임대_상가  공급유형_전세주택\n",
              "0   754.0  14.0    683.0  0.0  ...          0          1             0          0\n",
              "1  1354.0   9.0   1216.0  0.0  ...          0          1             0          0\n",
              "2   619.0  18.0    547.0  0.0  ...          0          1             0          0\n",
              "3   593.0   7.0    543.0  0.0  ...          0          1             0          0\n",
              "4  1297.0  11.0   1112.0  0.0  ...          0          1             0          0\n",
              "\n",
              "[5 rows x 31 columns]"
            ]
          },
          "metadata": {
            "tags": []
          },
          "execution_count": 294
        }
      ]
    },
    {
      "cell_type": "code",
      "metadata": {
        "colab": {
          "base_uri": "https://localhost:8080/"
        },
        "id": "diqe87E9d6Gb",
        "outputId": "0d9d080e-0e31-41aa-c1a7-22ae0179c99e"
      },
      "source": [
        "type(yy.지역_서울특별시[0])"
      ],
      "execution_count": 258,
      "outputs": [
        {
          "output_type": "execute_result",
          "data": {
            "text/plain": [
              "numpy.int64"
            ]
          },
          "metadata": {
            "tags": []
          },
          "execution_count": 258
        }
      ]
    },
    {
      "cell_type": "code",
      "metadata": {
        "id": "QEZ6eB8jit1K"
      },
      "source": [
        "y_lasso_predict = lasso.predict(yy)\n",
        "submission['num'] = y_lasso_predict\n",
        "\n",
        "submission.to_csv('lasso.csv', index=False)"
      ],
      "execution_count": 295,
      "outputs": []
    },
    {
      "cell_type": "code",
      "metadata": {
        "id": "jpANCgszfSi4"
      },
      "source": [
        ""
      ],
      "execution_count": null,
      "outputs": []
    }
  ]
}