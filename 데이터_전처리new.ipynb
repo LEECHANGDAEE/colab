{
  "nbformat": 4,
  "nbformat_minor": 0,
  "metadata": {
    "colab": {
      "name": "데이터 전처리new.ipynb",
      "provenance": [],
      "collapsed_sections": [],
      "authorship_tag": "ABX9TyO02e4pUPjlQlZw9islmuMF",
      "include_colab_link": true
    },
    "kernelspec": {
      "name": "python3",
      "display_name": "Python 3"
    },
    "language_info": {
      "name": "python"
    }
  },
  "cells": [
    {
      "cell_type": "markdown",
      "metadata": {
        "id": "view-in-github",
        "colab_type": "text"
      },
      "source": [
        "<a href=\"https://colab.research.google.com/github/LEECHANGDAEE/colab/blob/main/%EB%8D%B0%EC%9D%B4%ED%84%B0_%EC%A0%84%EC%B2%98%EB%A6%ACnew.ipynb\" target=\"_parent\"><img src=\"https://colab.research.google.com/assets/colab-badge.svg\" alt=\"Open In Colab\"/></a>"
      ]
    },
    {
      "cell_type": "code",
      "metadata": {
        "id": "7-7EUoKxtqlk"
      },
      "source": [
        "import pandas as pd\n",
        "import numpy as np\n",
        "from sklearn.ensemble import RandomForestRegressor\n",
        "from tqdm import tqdm\n",
        "from sklearn.model_selection import train_test_split\n",
        "from sklearn.linear_model import LinearRegression\n",
        "from sklearn.linear_model import Ridge\n",
        "from sklearn.linear_model import Lasso\n",
        "import matplotlib.pyplot as plt\n",
        "import seaborn as sns\n",
        "from sklearn.metrics import r2_score, get_scorer\n",
        "from sklearn.linear_model import Lasso, Ridge, LassoCV,LinearRegression\n",
        "from sklearn.preprocessing import StandardScaler, PolynomialFeatures\n",
        "from sklearn.model_selection import KFold, RepeatedKFold, GridSearchCV, cross_validate, train_test_split\n",
        "from numpy import arange"
      ],
      "execution_count": 27,
      "outputs": []
    },
    {
      "cell_type": "code",
      "metadata": {
        "id": "n0AXdwZneup2"
      },
      "source": [
        "train = pd.read_csv('./train2.csv',encoding='cp949')\n",
        "test = pd.read_csv('./test1.csv',encoding='cp949')\n",
        "submission = pd.read_csv('./sample_submission1.csv',encoding='cp949')\n",
        "\n",
        "train.columns = [\n",
        "    '단지코드', '총세대수', '임대건물구분', '지역', '공급유형', '전용면적', '전용면적별세대수', '공가수', '자격유형',\n",
        "    '임대보증금', '임대료', '지하철', '버스',\n",
        "    '단지내주차면수', '등록차량수'\n",
        "]\n",
        "\n",
        "test.columns = [\n",
        "    '단지코드', '총세대수', '임대건물구분', '지역', '공급유형', '전용면적', '전용면적별세대수', '공가수', '자격유형',\n",
        "    '임대보증금', '임대료', '지하철', '버스',\n",
        "    '단지내주차면수'\n",
        "]\n",
        "\n",
        "train= pd.get_dummies(data = train, columns = ['임대건물구분'], prefix = '건물구분')\n",
        "test =  pd.get_dummies(data = test, columns = ['임대건물구분'], prefix = '건물구분')\n"
      ],
      "execution_count": 202,
      "outputs": []
    },
    {
      "cell_type": "code",
      "metadata": {
        "id": "oZ2J46YgtdGs"
      },
      "source": [
        "# for i in range(len(train)) :\n",
        "#   if train.자격유형[i] in ['C','F'] :\n",
        "#     train.자격유형[i] = 'C'\n",
        "#   elif train.자격유형[i] in ['H','B','O'] :\n",
        "#     train.자격유형[i] = 'H'\n",
        "# for i in range(len(test)) :\n",
        "#   if test.자격유형[i] in ['C','F'] :\n",
        "#     test.자격유형[i] = 'C'\n",
        "#   elif test.자격유형[i] in ['H','B','O'] :\n",
        "#     test.자격유형[i] = 'H'\n",
        "# train= pd.get_dummies(data = train, columns = ['자격유형'], prefix = '유형')\n",
        "# test =  pd.get_dummies(data = test, columns = ['자격유형'], prefix = '유형')"
      ],
      "execution_count": 203,
      "outputs": []
    },
    {
      "cell_type": "code",
      "metadata": {
        "id": "aJkMNJ5xuaU9"
      },
      "source": [
        "data_m = train.groupby('단지코드').sum()\n",
        "data_mt = test.groupby('단지코드').sum()\n",
        "# data_n = data_m.유형_N\n",
        "# data_nt = data_mt.유형_N"
      ],
      "execution_count": 204,
      "outputs": []
    },
    {
      "cell_type": "code",
      "metadata": {
        "id": "1mxiK6Vtwd3N"
      },
      "source": [
        "\n",
        "\n",
        "len(data_m)\n",
        "data_st = data_m.건물구분_상가\n",
        "data_ap = data_m.건물구분_아파트\n",
        "# data_a = data_m.유형_A\n",
        "# data_c = data_m.유형_C\n",
        "# data_d = data_m.유형_D\n",
        "# data_e = data_m.유형_E\n",
        "# data_g = data_m.유형_G\n",
        "# data_h = data_m.유형_H\n",
        "# data_i = data_m.유형_I\n",
        "# data_j = data_m.유형_J\n",
        "# data_k = data_m.유형_K\n",
        "# data_l = data_m.유형_L\n",
        "# data_m = data_m.유형_M\n",
        "\n",
        "data_stt = data_mt.건물구분_상가\n",
        "data_apt = data_mt.건물구분_아파트\n",
        "# data_at = data_mt.유형_A\n",
        "# data_ct = data_mt.유형_C\n",
        "# data_dt = data_mt.유형_D\n",
        "# data_et = data_mt.유형_E\n",
        "# data_gt = data_mt.유형_G\n",
        "# data_ht = data_mt.유형_H\n",
        "# data_it = data_mt.유형_I\n",
        "# data_jt = data_mt.유형_J\n",
        "# data_kt = data_mt.유형_K\n",
        "# data_lt = data_mt.유형_L\n",
        "# data_mt = data_mt.유형_M\n"
      ],
      "execution_count": 205,
      "outputs": []
    },
    {
      "cell_type": "code",
      "metadata": {
        "id": "z5BQ8UiZz9H1"
      },
      "source": [
        "# print(train.공급유형.value_counts())\n",
        "# print(test.공급유형.value_counts())\n"
      ],
      "execution_count": 206,
      "outputs": []
    },
    {
      "cell_type": "code",
      "metadata": {
        "colab": {
          "base_uri": "https://localhost:8080/"
        },
        "id": "SapIypO8yYvk",
        "outputId": "1774c610-65bb-4ff5-bdd4-3d1603a6c3ed"
      },
      "source": [
        "for i in range(len(train)) :\n",
        "  if train.공급유형[i] in ['임대상가','영구임대'] :\n",
        "    train.공급유형[i] = '영구임대_상가'\n",
        "  elif train.공급유형[i] in ['공공임대(10년)','공공임대(50년)','공공임대(분납)','공공분양','공공임대(5년)'] :\n",
        "    train.공급유형[i] = '공공임대'\n",
        "  elif train.공급유형[i] in ['장기전세','행복주택'] :\n",
        "    train.공급유형[i] = '전세주택'\n",
        "#train.공급유형.value_counts()"
      ],
      "execution_count": 207,
      "outputs": [
        {
          "output_type": "stream",
          "text": [
            "/usr/local/lib/python3.7/dist-packages/ipykernel_launcher.py:5: SettingWithCopyWarning: \n",
            "A value is trying to be set on a copy of a slice from a DataFrame\n",
            "\n",
            "See the caveats in the documentation: https://pandas.pydata.org/pandas-docs/stable/user_guide/indexing.html#returning-a-view-versus-a-copy\n",
            "  \"\"\"\n",
            "/usr/local/lib/python3.7/dist-packages/ipykernel_launcher.py:3: SettingWithCopyWarning: \n",
            "A value is trying to be set on a copy of a slice from a DataFrame\n",
            "\n",
            "See the caveats in the documentation: https://pandas.pydata.org/pandas-docs/stable/user_guide/indexing.html#returning-a-view-versus-a-copy\n",
            "  This is separate from the ipykernel package so we can avoid doing imports until\n",
            "/usr/local/lib/python3.7/dist-packages/ipykernel_launcher.py:7: SettingWithCopyWarning: \n",
            "A value is trying to be set on a copy of a slice from a DataFrame\n",
            "\n",
            "See the caveats in the documentation: https://pandas.pydata.org/pandas-docs/stable/user_guide/indexing.html#returning-a-view-versus-a-copy\n",
            "  import sys\n"
          ],
          "name": "stderr"
        }
      ]
    },
    {
      "cell_type": "code",
      "metadata": {
        "colab": {
          "base_uri": "https://localhost:8080/"
        },
        "id": "2gXaKZlM2vAr",
        "outputId": "eea48f83-4232-48ad-f44a-d69b9b5d7cd5"
      },
      "source": [
        "for i in range(len(test)) :\n",
        "  if test.공급유형[i] in ['임대상가','영구임대'] :\n",
        "    test.공급유형[i] = '영구임대_상가'\n",
        "  elif test.공급유형[i] in ['공공임대(10년)','공공임대(50년)','공공임대(분납)','공공분양','공공임대(5년)'] :\n",
        "    test.공급유형[i] = '공공임대'\n",
        "  elif test.공급유형[i] in ['장기전세','행복주택'] :\n",
        "    test.공급유형[i] = '전세주택'\n",
        "\n",
        "#test.공급유형.value_counts()"
      ],
      "execution_count": 208,
      "outputs": [
        {
          "output_type": "stream",
          "text": [
            "/usr/local/lib/python3.7/dist-packages/ipykernel_launcher.py:3: SettingWithCopyWarning: \n",
            "A value is trying to be set on a copy of a slice from a DataFrame\n",
            "\n",
            "See the caveats in the documentation: https://pandas.pydata.org/pandas-docs/stable/user_guide/indexing.html#returning-a-view-versus-a-copy\n",
            "  This is separate from the ipykernel package so we can avoid doing imports until\n",
            "/usr/local/lib/python3.7/dist-packages/ipykernel_launcher.py:5: SettingWithCopyWarning: \n",
            "A value is trying to be set on a copy of a slice from a DataFrame\n",
            "\n",
            "See the caveats in the documentation: https://pandas.pydata.org/pandas-docs/stable/user_guide/indexing.html#returning-a-view-versus-a-copy\n",
            "  \"\"\"\n",
            "/usr/local/lib/python3.7/dist-packages/ipykernel_launcher.py:7: SettingWithCopyWarning: \n",
            "A value is trying to be set on a copy of a slice from a DataFrame\n",
            "\n",
            "See the caveats in the documentation: https://pandas.pydata.org/pandas-docs/stable/user_guide/indexing.html#returning-a-view-versus-a-copy\n",
            "  import sys\n"
          ],
          "name": "stderr"
        }
      ]
    },
    {
      "cell_type": "code",
      "metadata": {
        "colab": {
          "base_uri": "https://localhost:8080/"
        },
        "id": "CyhSFxughtga",
        "outputId": "526cb29d-9744-4479-fbe3-ad745c9d6a9e"
      },
      "source": [
        "train['전용면적'] = round(train['전용면적'])//5*5\n",
        "test['전용면적'] = round(test['전용면적'])//5*5\n",
        "\n",
        "idx = train[train['전용면적']>100].index\n",
        "train.loc[idx, '전용면적'] = 1\n",
        "idx = train[train['전용면적']>50].index\n",
        "train.loc[idx, '전용면적'] = 2\n",
        "idx = train[train['전용면적']==50].index\n",
        "train.loc[idx, '전용면적'] = 3\n",
        "idx = train[train['전용면적']>40].index\n",
        "train.loc[idx, '전용면적'] = 4\n",
        "idx = train[train['전용면적']>9].index\n",
        "train.loc[idx, '전용면적'] = 5\n",
        "\n",
        "idx = test[test['전용면적']>100].index\n",
        "test.loc[idx, '전용면적'] = 1\n",
        "idx = test[test['전용면적']>50].index\n",
        "test.loc[idx, '전용면적'] = 2\n",
        "idx = test[test['전용면적']==50].index\n",
        "test.loc[idx, '전용면적'] = 3\n",
        "idx = test[test['전용면적']>40].index\n",
        "test.loc[idx, '전용면적'] = 4\n",
        "idx = test[test['전용면적']>9].index\n",
        "test.loc[idx, '전용면적'] = 5\n",
        "\n",
        "\n",
        "\n",
        "columns = ['단지코드', '총세대수', '공가수', '지역', '단지내주차면수', '지하철', '버스','공급유형']\n",
        "target = '등록차량수'\n",
        "area_columns = []\n",
        "\n",
        "for area in train['전용면적'].unique():\n",
        "    area_columns.append(f'면적_{area}')\n",
        "\n",
        "new_train = pd.DataFrame()\n",
        "new_test = pd.DataFrame()\n",
        "\n",
        "for i, code in tqdm(enumerate(train['단지코드'].unique())):\n",
        "    temp = train[train['단지코드']==code]\n",
        "    temp.index = range(temp.shape[0])\n",
        "    for col in columns:\n",
        "        new_train.loc[i, col] = temp.loc[0, col]\n",
        "    \n",
        "    for col in area_columns:\n",
        "        area = float(col.split('_')[-1])\n",
        "        new_train.loc[i, col] = temp[temp['전용면적']==area]['전용면적별세대수'].sum()\n",
        "    \n",
        "    new_train.loc[i, '등록차량수'] = temp.loc[0, '등록차량수']\n",
        "    \n",
        "for i, code in tqdm(enumerate(test['단지코드'].unique())):\n",
        "    temp = test[test['단지코드']==code]\n",
        "    temp.index = range(temp.shape[0])\n",
        "    for col in columns:\n",
        "        new_test.loc[i, col] = temp.loc[0, col]\n",
        "    \n",
        "    for col in area_columns:\n",
        "        area = float(col.split('_')[-1])\n",
        "        new_test.loc[i, col] = temp[temp['전용면적']==area]['전용면적별세대수'].sum()\n",
        "  \n",
        "new_train = new_train.fillna(0)\n",
        "new_test = new_test.fillna(0)\n"
      ],
      "execution_count": 209,
      "outputs": [
        {
          "output_type": "stream",
          "text": [
            "411it [00:04, 90.60it/s]\n",
            "150it [00:01, 95.49it/s]\n"
          ],
          "name": "stderr"
        }
      ]
    },
    {
      "cell_type": "code",
      "metadata": {
        "id": "a0fywsLu2Uwc"
      },
      "source": [
        "\n",
        "nw = new_train.set_index('단지코드')\n",
        "ntw = new_test.set_index('단지코드')\n"
      ],
      "execution_count": 210,
      "outputs": []
    },
    {
      "cell_type": "code",
      "metadata": {
        "id": "4SsGS36C4-19"
      },
      "source": [
        "# ,data_a,data_c,data_d,data_e,data_g,data_h,data_i,data_j,data_k,data_l,data_m,data_n\n",
        "# ,data_at,data_ct,data_dt,data_et,data_gt,data_ht,data_it,data_jt,data_kt,data_lt,data_mt,data_nt"
      ],
      "execution_count": 211,
      "outputs": []
    },
    {
      "cell_type": "code",
      "metadata": {
        "id": "up9v5rNZC6M5"
      },
      "source": [
        "d1 = pd.concat([nw.iloc[:,:-1],data_ap,data_st],axis=1)\n",
        "#d2 = pd.concat([d1,data_st],axis=1)\n",
        "d1 = d1.reset_index()\n",
        "\n",
        "dt1 = pd.concat([ntw,data_apt,data_stt],axis=1)\n",
        "#d2 = pd.concat([d1,data_st],axis=1)\n",
        "dt1 = dt1.reset_index()\n",
        "\n",
        "error = ['C2085', 'C1397','C2431', 'C1649','C1036', 'C1095', 'C2051', 'C1218', 'C1894', 'C2483', 'C1502', 'C1988']\n",
        "idx = []\n",
        "for i in range(len(error)):\n",
        "  idx = np.append(idx,d1[d1['index']==error[i]].index)\n",
        "d1.drop(idx,inplace=True)\n",
        "idx = []\n",
        "for i in range(len(error)):\n",
        "  idx = np.append(idx,dt1[dt1['index']==error[i]].index)\n",
        "dt1.drop(idx,inplace=True)\n",
        "\n"
      ],
      "execution_count": 212,
      "outputs": []
    },
    {
      "cell_type": "code",
      "metadata": {
        "colab": {
          "base_uri": "https://localhost:8080/"
        },
        "id": "ixsKnWsO7mCf",
        "outputId": "07bcdac1-a35f-402c-c9b3-b1a269f39efd"
      },
      "source": [
        "print(dt1.shape)\n",
        "print(d1.shape)\n"
      ],
      "execution_count": 213,
      "outputs": [
        {
          "output_type": "stream",
          "text": [
            "(150, 15)\n",
            "(411, 15)\n"
          ],
          "name": "stdout"
        }
      ]
    },
    {
      "cell_type": "code",
      "metadata": {
        "id": "UoS1LJ2t1hAW"
      },
      "source": [
        "\n",
        "x = d1.iloc[:,1:]\n",
        "y = new_train['등록차량수']"
      ],
      "execution_count": 214,
      "outputs": []
    },
    {
      "cell_type": "code",
      "metadata": {
        "id": "1HeKJY0KFcoQ"
      },
      "source": [
        "yy = dt1.iloc[:,1:]"
      ],
      "execution_count": 215,
      "outputs": []
    },
    {
      "cell_type": "code",
      "metadata": {
        "colab": {
          "base_uri": "https://localhost:8080/"
        },
        "id": "9OTB48NOedhx",
        "outputId": "4f883ce6-da1a-45d6-adb3-b0a83404a88b"
      },
      "source": [
        "for i in range(len(x)) : \n",
        "  if x.지역[i] in ['서울특별시','부산광역시'] :\n",
        "    x.지역[i] = '경부'"
      ],
      "execution_count": 216,
      "outputs": [
        {
          "output_type": "stream",
          "text": [
            "/usr/local/lib/python3.7/dist-packages/ipykernel_launcher.py:3: SettingWithCopyWarning: \n",
            "A value is trying to be set on a copy of a slice from a DataFrame\n",
            "\n",
            "See the caveats in the documentation: https://pandas.pydata.org/pandas-docs/stable/user_guide/indexing.html#returning-a-view-versus-a-copy\n",
            "  This is separate from the ipykernel package so we can avoid doing imports until\n"
          ],
          "name": "stderr"
        }
      ]
    },
    {
      "cell_type": "code",
      "metadata": {
        "colab": {
          "base_uri": "https://localhost:8080/"
        },
        "id": "2S9EJTM0fBns",
        "outputId": "43cbeda3-7593-4b44-b2df-daea3461d6e2"
      },
      "source": [
        "for i in range(len(yy)) : \n",
        "  if yy.지역[i] in ['서울특별시','부산광역시'] :\n",
        "    yy.지역[i] = '경부'"
      ],
      "execution_count": 217,
      "outputs": [
        {
          "output_type": "stream",
          "text": [
            "/usr/local/lib/python3.7/dist-packages/ipykernel_launcher.py:3: SettingWithCopyWarning: \n",
            "A value is trying to be set on a copy of a slice from a DataFrame\n",
            "\n",
            "See the caveats in the documentation: https://pandas.pydata.org/pandas-docs/stable/user_guide/indexing.html#returning-a-view-versus-a-copy\n",
            "  This is separate from the ipykernel package so we can avoid doing imports until\n"
          ],
          "name": "stderr"
        }
      ]
    },
    {
      "cell_type": "code",
      "metadata": {
        "id": "d8oMVtbgmhPD"
      },
      "source": [
        "# for i in range(len(x)) :\n",
        "#      if x.지역[i] in ['광주광역시','부산광역시','대전광역시','울산광역시','대구광역시'] :\n",
        "#     x.지역[i] = '광역시'\n",
        "#   elif x.지역[i] in ['서울특별시','세종특별자치시','제주특별자치도'] :\n",
        "#     x.지역[i] = '특별자치시'\n",
        "#   elif x.지역[i] in ['경상남도','경상북도','충청북도','충청남도','전라남도','전라북도'] :\n",
        "#     x.지역[i] = '지방시'"
      ],
      "execution_count": 218,
      "outputs": []
    },
    {
      "cell_type": "code",
      "metadata": {
        "id": "-mFBrBo73y1p"
      },
      "source": [
        "# for i in range(len(yy)) :\n",
        "#   if yy.지역[i] in ['광주광역시','부산광역시','대전광역시','울산광역시','대구광역시'] :\n",
        "#     yy.지역[i] = '광역시'\n",
        "#   elif yy.지역[i] in ['서울특별시','세종특별자치시','제주특별자치도'] :\n",
        "#     yy.지역[i] = '특별자치시'\n",
        "#   elif yy.지역[i] in ['경상남도','경상북도','충청북도','충청남도','전라남도','전라북도'] :\n",
        "#     yy.지역[i] = '지방시'"
      ],
      "execution_count": 219,
      "outputs": []
    },
    {
      "cell_type": "code",
      "metadata": {
        "id": "KdxiW6cFfjs0"
      },
      "source": [
        "x = pd.get_dummies(data = x, columns = ['지역'], prefix = '지역')\n",
        "x = pd.get_dummies(data = x, columns = ['공급유형'], prefix = '공급유형')\n",
        "yy = pd.get_dummies(data = yy, columns = ['지역'], prefix = '지역')\n",
        "yy = pd.get_dummies(data = yy, columns = ['공급유형'], prefix = '공급유형')"
      ],
      "execution_count": 220,
      "outputs": []
    },
    {
      "cell_type": "code",
      "metadata": {
        "id": "9T1ZGPFBFFS_"
      },
      "source": [
        "x = x.drop('건물구분_아파트',axis=1)"
      ],
      "execution_count": 221,
      "outputs": []
    },
    {
      "cell_type": "code",
      "metadata": {
        "id": "i9Jxr7P9TtN3"
      },
      "source": [
        "x.총세대수 = np.sqrt(x.총세대수)\n",
        "x.단지내주차면수 = np.sqrt(x.단지내주차면수)"
      ],
      "execution_count": 222,
      "outputs": []
    },
    {
      "cell_type": "code",
      "metadata": {
        "id": "25Zg4iOjZcX1"
      },
      "source": [
        "y = np.sqrt(y)"
      ],
      "execution_count": 223,
      "outputs": []
    },
    {
      "cell_type": "code",
      "metadata": {
        "id": "33WVOwTv4sHZ"
      },
      "source": [
        "#  x =x.iloc[:,1:]\n",
        "#  yy = yy.iloc[:,1:]\n"
      ],
      "execution_count": 224,
      "outputs": []
    },
    {
      "cell_type": "code",
      "metadata": {
        "id": "x1jnRpxufDG9"
      },
      "source": [
        "# for i in range(50) :\n",
        "  \n",
        "#   x_train, x_test, y_train, y_test = train_test_split(x, y, train_size=0.8, test_size=0.2,random_state =i)\n",
        "#   mlr = LinearRegression()\n",
        "#   mlr.fit(x_train, y_train)\n",
        "\n",
        "#   ridge = Ridge(alpha = 0.5).fit(x_train, y_train)\n",
        "\n",
        "#   lasso = Lasso(alpha=0.2).fit(x_train, y_train)\n",
        "\n",
        "#   y_linear_predict = mlr.predict(x_test)\n",
        "#   y_ridge_predict = ridge.predict(x_test)\n",
        "#   y_lasso_predict = lasso.predict(x_test)\n",
        "#   from sklearn.metrics import mean_absolute_error\n",
        "#   from sklearn.metrics import mean_squared_error\n",
        "#   print(mean_absolute_error(y_lasso_predict,y_test))"
      ],
      "execution_count": 225,
      "outputs": []
    },
    {
      "cell_type": "code",
      "metadata": {
        "colab": {
          "base_uri": "https://localhost:8080/"
        },
        "id": "H2B47vKYfXE7",
        "outputId": "20cfd8eb-9bd7-4fc0-997a-0e8a2b35eda1"
      },
      "source": [
        "\n",
        "x_train, x_test, y_train, y_test = train_test_split(x, y, train_size=0.8, test_size=0.2,random_state =0)\n",
        "mlr = LinearRegression()\n",
        "mlr.fit(x_train, y_train)\n",
        "\n",
        "ridge = Ridge(alpha = 0.5).fit(x_train, y_train)\n",
        "\n",
        "lasso = Lasso(alpha=0.23).fit(x_train, y_train)\n",
        "\n",
        "y_linear_predict = mlr.predict(x_test)\n",
        "y_ridge_predict = ridge.predict(x_test)\n",
        "y_lasso_predict = lasso.predict(x_test)\n",
        "from sklearn.metrics import mean_absolute_error\n",
        "from sklearn.metrics import mean_squared_error\n",
        "print('linear regression rmse : {}'.format(mean_squared_error(y_linear_predict,y_test)**0.5))\n",
        "print('ridge regression rmse : {}'.format(mean_squared_error(y_ridge_predict,y_test)**0.5))\n",
        "print('lasso regression rmse : {}'.format(mean_squared_error(y_lasso_predict,y_test)**0.5))\n",
        "print(mean_absolute_error(lasso.predict(x_train),y_train))\n",
        "print(mean_absolute_error(y_lasso_predict,y_test))\n"
      ],
      "execution_count": 226,
      "outputs": [
        {
          "output_type": "stream",
          "text": [
            "linear regression rmse : 2.6459011703962614\n",
            "ridge regression rmse : 2.6298499647321374\n",
            "lasso regression rmse : 2.625748761624344\n",
            "2.4804992026552712\n",
            "1.9561209887278386\n"
          ],
          "name": "stdout"
        }
      ]
    },
    {
      "cell_type": "code",
      "metadata": {
        "id": "PJJGbptz7zmH"
      },
      "source": [
        "yy = yy.drop('건물구분_아파트',axis=1)\n",
        "yy.총세대수 = np.sqrt(yy.총세대수)\n",
        "yy.단지내주차면수 = np.sqrt(yy.단지내주차면수)"
      ],
      "execution_count": 227,
      "outputs": []
    },
    {
      "cell_type": "code",
      "metadata": {
        "id": "QEZ6eB8jit1K"
      },
      "source": [
        "# y_lasso_predict = lasso.predict(yy)\n",
        "# submission['num'] = y_lasso_predict\n",
        "\n",
        "# submission.to_csv('lasso.csv', index=False)"
      ],
      "execution_count": 228,
      "outputs": []
    },
    {
      "cell_type": "code",
      "metadata": {
        "id": "jpANCgszfSi4"
      },
      "source": [
        "random_grid = {'alpha':  [round(x,1) for x in arange(0, 1, 0.01)]}"
      ],
      "execution_count": 229,
      "outputs": []
    },
    {
      "cell_type": "code",
      "metadata": {
        "id": "He-Q8miQzkfx"
      },
      "source": [
        "from sklearn.model_selection import RandomizedSearchCV,cross_val_score, KFold\n",
        "kfold = RepeatedKFold(n_splits=10, n_repeats=3, random_state=1)\n",
        "\n",
        "lasso = Lasso()\n",
        "# lasso_random = RandomizedSearchCV(estimator = lasso, param_distributions = random_grid, n_iter = 100, cv = kfold, verbose=2, n_jobs = -1)\n",
        "lasso_random = GridSearchCV(estimator= lasso, param_grid= random_grid, scoring='neg_mean_absolute_error', cv=kfold, n_jobs=-1)"
      ],
      "execution_count": 230,
      "outputs": []
    },
    {
      "cell_type": "code",
      "metadata": {
        "colab": {
          "base_uri": "https://localhost:8080/"
        },
        "id": "otW71U8Ezmdp",
        "outputId": "d705bf91-8da2-424b-9623-38f48d1590b4"
      },
      "source": [
        "lasso_random_cv = lasso_random.fit(x_train,y_train)\n"
      ],
      "execution_count": 231,
      "outputs": [
        {
          "output_type": "stream",
          "text": [
            "/usr/local/lib/python3.7/dist-packages/sklearn/model_selection/_search.py:739: UserWarning: With alpha=0, this algorithm does not converge well. You are advised to use the LinearRegression estimator\n",
            "  self.best_estimator_.fit(X, y, **fit_params)\n",
            "/usr/local/lib/python3.7/dist-packages/sklearn/linear_model/_coordinate_descent.py:476: UserWarning: Coordinate descent with no regularization may lead to unexpected results and is discouraged.\n",
            "  positive)\n",
            "/usr/local/lib/python3.7/dist-packages/sklearn/linear_model/_coordinate_descent.py:476: ConvergenceWarning: Objective did not converge. You might want to increase the number of iterations. Duality gap: 1599.7324323470316, tolerance: 2.064496754339715\n",
            "  positive)\n"
          ],
          "name": "stderr"
        }
      ]
    },
    {
      "cell_type": "code",
      "metadata": {
        "colab": {
          "base_uri": "https://localhost:8080/"
        },
        "id": "GJHzEhcKzoYJ",
        "outputId": "faebbcec-0945-453e-d5ec-d7c7ae69a89e"
      },
      "source": [
        "lasso_random_cv.best_estimator_"
      ],
      "execution_count": 232,
      "outputs": [
        {
          "output_type": "execute_result",
          "data": {
            "text/plain": [
              "Lasso(alpha=0.0, copy_X=True, fit_intercept=True, max_iter=1000,\n",
              "      normalize=False, positive=False, precompute=False, random_state=None,\n",
              "      selection='cyclic', tol=0.0001, warm_start=False)"
            ]
          },
          "metadata": {
            "tags": []
          },
          "execution_count": 232
        }
      ]
    },
    {
      "cell_type": "code",
      "metadata": {
        "id": "AoqJ6yoHzoao",
        "colab": {
          "base_uri": "https://localhost:8080/"
        },
        "outputId": "d26078f9-1318-43ad-a7af-d40cd4696efa"
      },
      "source": [
        "lasso_optimal = lasso_random_cv.best_estimator_.fit(x_train,y_train)"
      ],
      "execution_count": 233,
      "outputs": [
        {
          "output_type": "stream",
          "text": [
            "/usr/local/lib/python3.7/dist-packages/ipykernel_launcher.py:1: UserWarning: With alpha=0, this algorithm does not converge well. You are advised to use the LinearRegression estimator\n",
            "  \"\"\"Entry point for launching an IPython kernel.\n",
            "/usr/local/lib/python3.7/dist-packages/sklearn/linear_model/_coordinate_descent.py:476: UserWarning: Coordinate descent with no regularization may lead to unexpected results and is discouraged.\n",
            "  positive)\n",
            "/usr/local/lib/python3.7/dist-packages/sklearn/linear_model/_coordinate_descent.py:476: ConvergenceWarning: Objective did not converge. You might want to increase the number of iterations. Duality gap: 1599.7324323470316, tolerance: 2.064496754339715\n",
            "  positive)\n"
          ],
          "name": "stderr"
        }
      ]
    },
    {
      "cell_type": "code",
      "metadata": {
        "colab": {
          "base_uri": "https://localhost:8080/"
        },
        "id": "A0c9tqK6e4CQ",
        "outputId": "a1ff4790-754d-406c-c2d6-6e1b7d583c93"
      },
      "source": [
        "la_op_pred = lasso_optimal.predict(x_test)\n",
        "print('lasso regression rmse : {}'.format(mean_squared_error(la_op_pred,y_test)**0.5))\n",
        "print(mean_absolute_error(la_op_pred,y_test))"
      ],
      "execution_count": 234,
      "outputs": [
        {
          "output_type": "stream",
          "text": [
            "lasso regression rmse : 2.645901170396538\n",
            "2.045312246888078\n"
          ],
          "name": "stdout"
        }
      ]
    },
    {
      "cell_type": "code",
      "metadata": {
        "id": "RxVjtXoGzodl"
      },
      "source": [
        "scores = cross_val_score(lasso_optimal, x_train, y_train, cv=kfold,scoring='neg_mean_absolute_error')\n",
        "print(np.mean(scores))"
      ],
      "execution_count": null,
      "outputs": []
    },
    {
      "cell_type": "code",
      "metadata": {
        "id": "u-KYj42Ue_ZP"
      },
      "source": [
        "y_lasso_predict = lasso_optimal.predict(yy)\n",
        "y_lasso_predict = y_lasso_predict**2\n",
        "submission['num'] = y_lasso_predict\n",
        "\n",
        "submission.to_csv('lasso.csv', index=False)"
      ],
      "execution_count": 245,
      "outputs": []
    },
    {
      "cell_type": "code",
      "metadata": {
        "colab": {
          "base_uri": "https://localhost:8080/"
        },
        "id": "_0-swIyj1sOB",
        "outputId": "7cb84296-b154-4224-9041-e31ace23ea51"
      },
      "source": [
        "print('lasso regression rmse : {}'.format(mean_squared_error(lasso_optimal.predict(x_test),y_test)**0.5))\n",
        "print(mean_absolute_error(lasso_optimal.predict(x_train),y_train))\n",
        "print(mean_absolute_error(lasso_optimal.predict(x_test),y_test))"
      ],
      "execution_count": 246,
      "outputs": [
        {
          "output_type": "stream",
          "text": [
            "lasso regression rmse : 2.645901170396538\n",
            "2.2374464929519817\n",
            "2.045312246888078\n"
          ],
          "name": "stdout"
        }
      ]
    },
    {
      "cell_type": "code",
      "metadata": {
        "id": "o_Q4OtC-5B_C"
      },
      "source": [
        ""
      ],
      "execution_count": null,
      "outputs": []
    }
  ]
}